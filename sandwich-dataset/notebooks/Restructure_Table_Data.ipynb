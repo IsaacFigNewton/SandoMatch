{
  "nbformat": 4,
  "nbformat_minor": 0,
  "metadata": {
    "colab": {
      "provenance": [],
      "collapsed_sections": [
        "Kmm6Qf8ymoTO",
        "BPyOAy242yFa"
      ]
    },
    "kernelspec": {
      "name": "python3",
      "display_name": "Python 3"
    },
    "language_info": {
      "name": "python"
    },
    "widgets": {
      "application/vnd.jupyter.widget-state+json": {
        "3db3e2c1214849c9973fff8d981033b9": {
          "model_module": "@jupyter-widgets/controls",
          "model_name": "FileUploadModel",
          "model_module_version": "1.5.0",
          "state": {
            "_counter": 2,
            "_dom_classes": [],
            "_model_module": "@jupyter-widgets/controls",
            "_model_module_version": "1.5.0",
            "_model_name": "FileUploadModel",
            "_view_count": null,
            "_view_module": "@jupyter-widgets/controls",
            "_view_module_version": "1.5.0",
            "_view_name": "FileUploadView",
            "accept": ".json",
            "button_style": "",
            "data": [
              null
            ],
            "description": "Upload",
            "description_tooltip": null,
            "disabled": false,
            "error": "",
            "icon": "upload",
            "layout": "IPY_MODEL_3269b4fc69a34ae0907c2dba8a9e1a25",
            "metadata": [
              {
                "name": "sandwiches.json",
                "type": "application/json",
                "size": 110451,
                "lastModified": 1732839474045
              }
            ],
            "multiple": false,
            "style": "IPY_MODEL_c25242a8d33a4e60bab079dbf4302d91"
          }
        },
        "3269b4fc69a34ae0907c2dba8a9e1a25": {
          "model_module": "@jupyter-widgets/base",
          "model_name": "LayoutModel",
          "model_module_version": "1.2.0",
          "state": {
            "_model_module": "@jupyter-widgets/base",
            "_model_module_version": "1.2.0",
            "_model_name": "LayoutModel",
            "_view_count": null,
            "_view_module": "@jupyter-widgets/base",
            "_view_module_version": "1.2.0",
            "_view_name": "LayoutView",
            "align_content": null,
            "align_items": null,
            "align_self": null,
            "border": null,
            "bottom": null,
            "display": null,
            "flex": null,
            "flex_flow": null,
            "grid_area": null,
            "grid_auto_columns": null,
            "grid_auto_flow": null,
            "grid_auto_rows": null,
            "grid_column": null,
            "grid_gap": null,
            "grid_row": null,
            "grid_template_areas": null,
            "grid_template_columns": null,
            "grid_template_rows": null,
            "height": null,
            "justify_content": null,
            "justify_items": null,
            "left": null,
            "margin": null,
            "max_height": null,
            "max_width": null,
            "min_height": null,
            "min_width": null,
            "object_fit": null,
            "object_position": null,
            "order": null,
            "overflow": null,
            "overflow_x": null,
            "overflow_y": null,
            "padding": null,
            "right": null,
            "top": null,
            "visibility": null,
            "width": null
          }
        },
        "c25242a8d33a4e60bab079dbf4302d91": {
          "model_module": "@jupyter-widgets/controls",
          "model_name": "ButtonStyleModel",
          "model_module_version": "1.5.0",
          "state": {
            "_model_module": "@jupyter-widgets/controls",
            "_model_module_version": "1.5.0",
            "_model_name": "ButtonStyleModel",
            "_view_count": null,
            "_view_module": "@jupyter-widgets/base",
            "_view_module_version": "1.2.0",
            "_view_name": "StyleView",
            "button_color": null,
            "font_weight": ""
          }
        }
      }
    }
  },
  "cells": [
    {
      "cell_type": "code",
      "execution_count": 1,
      "metadata": {
        "id": "DLcKfQIHWVIp"
      },
      "outputs": [],
      "source": [
        "import random\n",
        "import re\n",
        "import pandas as pd\n",
        "import json\n",
        "import requests\n",
        "from google.colab import files\n",
        "import ipywidgets as widgets\n",
        "from IPython.display import display\n",
        "\n",
        "originating_restaurant = None"
      ]
    },
    {
      "cell_type": "markdown",
      "source": [
        "# Upload JSON Tables"
      ],
      "metadata": {
        "id": "Kmm6Qf8ymoTO"
      }
    },
    {
      "cell_type": "code",
      "source": [
        "# Create a FileUpload widget that accepts JSON files\n",
        "uploader = widgets.FileUpload(\n",
        "    accept='.json',\n",
        "    multiple=False\n",
        ")"
      ],
      "metadata": {
        "id": "jSOF4dtIawct"
      },
      "execution_count": 2,
      "outputs": []
    },
    {
      "cell_type": "code",
      "source": [
        "def handle_uploads(change):\n",
        "  # Declare global vars because apparently I can't use ones in the broader scope\n",
        "  global old_sandwiches_table, ingredients_table\n",
        "\n",
        "  # go through each uploaded file\n",
        "  for uploaded_file in iter(uploader.value.values()):\n",
        "\n",
        "      # if the filename matches one of the specified ones\n",
        "      filename = uploaded_file['metadata']['name']\n",
        "\n",
        "      # Decode the file content from bytes to a string\n",
        "      json_str = uploaded_file['content'].decode('utf-8')\n",
        "\n",
        "      file_json = json.loads(json_str)\n",
        "      print(f\"Successfully uploaded {filename}\")\n",
        "\n",
        "      if filename == \"sandwiches.json\":\n",
        "        old_sandwiches_table = file_json\n",
        "      elif filename == \"restaurant_ingredients.json\":\n",
        "        ingredients_table = file_json\n"
      ],
      "metadata": {
        "id": "6LlzXs-LanCG"
      },
      "execution_count": 3,
      "outputs": []
    },
    {
      "cell_type": "code",
      "source": [
        "# Display the uploader widget\n",
        "display(uploader)\n",
        "\n",
        "# Observe changes in the uploader widget\n",
        "uploader.observe(handle_uploads, names='value')"
      ],
      "metadata": {
        "colab": {
          "base_uri": "https://localhost:8080/",
          "height": 84,
          "referenced_widgets": [
            "3db3e2c1214849c9973fff8d981033b9",
            "3269b4fc69a34ae0907c2dba8a9e1a25",
            "c25242a8d33a4e60bab079dbf4302d91"
          ]
        },
        "id": "acriNr1zao11",
        "outputId": "68c13a5f-300d-4217-82fb-fa8b6e869714"
      },
      "execution_count": 4,
      "outputs": [
        {
          "output_type": "display_data",
          "data": {
            "text/plain": [
              "FileUpload(value={}, accept='.json', description='Upload')"
            ],
            "application/vnd.jupyter.widget-view+json": {
              "version_major": 2,
              "version_minor": 0,
              "model_id": "3db3e2c1214849c9973fff8d981033b9"
            }
          },
          "metadata": {}
        },
        {
          "output_type": "stream",
          "name": "stdout",
          "text": [
            "Successfully uploaded restaurant_ingredients.json\n",
            "Successfully uploaded sandwiches.json\n"
          ]
        }
      ]
    },
    {
      "cell_type": "code",
      "source": [
        "print(old_sandwiches_table)\n",
        "print(ingredients_table)"
      ],
      "metadata": {
        "colab": {
          "base_uri": "https://localhost:8080/"
        },
        "id": "1gMx9ZeKekEP",
        "outputId": "cb695f7c-6839-4b86-aecd-826118f2fa5a"
      },
      "execution_count": 6,
      "outputs": [
        {
          "output_type": "stream",
          "name": "stdout",
          "text": [
            "[{'_id': 0, 'cuisine': None, 'restaurant': None, 'ingredients': {'breads': {}, 'meats': {'egg': ['egg']}, 'cheeses': {}, 'vegetables': {'onion': ['onion']}, 'condiments': {'oil': ['extra-virgin olive oil'], 'butter': ['butter']}, 'spices': {'black pepper': ['black pepper'], 'salt': ['salt']}}, 'cost': 2.8, 'calories': 343, 'rating': 4, 'dietary_tags': ['vegetarian'], 'review_count': 1, 'reviews': [], 'name': 'Egg Sandwich'}, {'_id': 1, 'cuisine': None, 'restaurant': None, 'ingredients': {'breads': {}, 'meats': {'egg': ['large egg'], 'chicken': ['boneless skinless chicken breast']}, 'cheeses': {}, 'vegetables': {}, 'condiments': {'oil': ['extra-virgin olive oil'], 'butter': ['unsalted butter']}, 'spices': {'black pepper': ['black pepper'], 'salt': ['coarse salt', 'unsalted butter']}}, 'cost': 4.4, 'calories': 503, 'rating': 4, 'dietary_tags': [], 'review_count': 1, 'reviews': [], 'name': 'Egg Sandwich'}, {'_id': 2, 'cuisine': None, 'restaurant': None, 'ingredients': {'breads': {}, 'meats': {}, 'cheeses': {'ricotta': ['ricotta cheese'], 'provolone': ['provolone cheese']}, 'vegetables': {'tomato': ['tomatoe']}, 'condiments': {}, 'spices': {'seasoning': ['italian seasoning']}}, 'cost': 3.2, 'calories': 175, 'rating': 4, 'dietary_tags': ['vegetarian'], 'review_count': 1, 'reviews': [], 'name': 'Ricotta Sandwich'}, {'_id': 3, 'cuisine': 'cajun_creole', 'restaurant': None, 'name': 'Cajun Creole Shrimp Sandwich', 'ingredients': {'breads': {'baguette': ['baguette']}, 'meats': {'shrimp': ['medium shrimp']}, 'cheeses': {}, 'vegetables': {'tomato': ['tomatoe'], 'pepper': ['yellow bell pepper'], 'scallion': ['scallion'], 'lettuce': ['romaine lettuce']}, 'condiments': {'mustard': ['dijon mustard'], 'oil': ['extra-virgin olive oil'], 'mayonnaise': ['reduced fat mayonnaise']}, 'spices': {'salt': ['salt'], 'seasoning': ['creole seasoning']}}, 'cost': 9.8, 'calories': 635, 'rating': 5, 'dietary_tags': [], 'review_count': 1, 'reviews': []}, {'_id': 4, 'cuisine': 'spanish', 'restaurant': None, 'name': 'Spanish Salami Sandwich', 'ingredients': {'breads': {}, 'meats': {'salami': ['hard salami']}, 'cheeses': {}, 'vegetables': {'olive': ['spanish olive']}, 'condiments': {'oil': ['olive oil']}, 'spices': {'parsley': ['parsley']}}, 'cost': 4.8, 'calories': 295, 'rating': 5, 'dietary_tags': [], 'review_count': 1, 'reviews': []}, {'_id': 5, 'cuisine': 'mexican', 'restaurant': None, 'name': 'Mexican Turkey Sandwich', 'ingredients': {'breads': {}, 'meats': {'turkey': ['turkey'], 'bacon': ['cooked bacon']}, 'cheeses': {'cheddar': ['cheddar cheese']}, 'vegetables': {}, 'condiments': {}, 'spices': {'powder': ['chipotle chile powder']}}, 'cost': 5.0, 'calories': 345, 'rating': 1, 'dietary_tags': [], 'review_count': 1, 'reviews': []}, {'_id': 6, 'cuisine': 'cajun_creole', 'restaurant': None, 'name': 'Cajun Creole Salami Sandwich', 'ingredients': {'breads': {}, 'meats': {'salami': ['genoa salami'], 'ham': ['ham'], 'mortadella': ['mortadella']}, 'cheeses': {'mozzarella': ['mozzarella cheese'], 'provolone': ['provolone cheese']}, 'vegetables': {'olive': ['olive']}, 'condiments': {}, 'spices': {}}, 'cost': 9.5, 'calories': 590, 'rating': 3, 'dietary_tags': [], 'review_count': 1, 'reviews': []}, {'_id': 7, 'cuisine': 'italian', 'restaurant': None, 'name': 'Italian Ham Sandwich', 'ingredients': {'breads': {}, 'meats': {'ham': ['deli ham']}, 'cheeses': {}, 'vegetables': {'pepper': ['roasted red pepper', 'crushed red pepper'], 'spinach': ['spinach leave']}, 'condiments': {'mayonnaise': ['low-fat mayonnaise']}, 'spices': {'basil': ['basil']}}, 'cost': 4.7, 'calories': 290, 'rating': 3, 'dietary_tags': [], 'review_count': 1, 'reviews': []}, {'_id': 8, 'cuisine': 'italian', 'restaurant': None, 'name': 'Italian Chicken Sandwich', 'ingredients': {'breads': {}, 'meats': {'chicken': ['boneless skinless chicken breast halve']}, 'cheeses': {'mozzarella': ['shredded mozzarella cheese']}, 'vegetables': {}, 'condiments': {'mustard': ['brown mustard']}, 'spices': {}}, 'cost': 3.5, 'calories': 285, 'rating': 1, 'dietary_tags': [], 'review_count': 1, 'reviews': []}, {'_id': 9, 'cuisine': 'american', 'restaurant': None, 'name': 'American Beef Sandwich', 'ingredients': {'breads': {'sourdough': ['sourdough bread']}, 'meats': {'beef': ['corned beef']}, 'cheeses': {'swiss': ['swiss cheese']}, 'vegetables': {}, 'condiments': {'dressing': ['russian dressing']}, 'spices': {}}, 'cost': 7.2, 'calories': 650, 'rating': 5, 'dietary_tags': [], 'review_count': 1, 'reviews': []}, {'_id': 10, 'cuisine': 'french', 'restaurant': None, 'name': 'French Prosciutto Sandwich', 'ingredients': {'breads': {'baguette': ['baguette']}, 'meats': {'prosciutto': ['prosciutto']}, 'cheeses': {'brie': ['brie cheese']}, 'vegetables': {}, 'condiments': {}, 'spices': {}}, 'cost': 5.5, 'calories': 415, 'rating': 1, 'dietary_tags': [], 'review_count': 1, 'reviews': []}, {'_id': 11, 'cuisine': 'mediterranean', 'restaurant': None, 'name': 'Mediterranean Feta Sandwich', 'ingredients': {'breads': {'whole wheat': ['whole wheat bread']}, 'meats': {}, 'cheeses': {'feta': ['feta cheese']}, 'vegetables': {'cucumber': ['cucumber'], 'tomato': ['tomato'], 'olive': ['kalamata olive']}, 'condiments': {}, 'spices': {}}, 'cost': 4.7, 'calories': 330, 'rating': 2, 'dietary_tags': ['vegetarian'], 'review_count': 1, 'reviews': []}, {'_id': 12, 'cuisine': 'italian', 'restaurant': None, 'name': 'Italian Mozzarella Sandwich', 'ingredients': {'breads': {'ciabatta': ['ciabatta']}, 'meats': {}, 'cheeses': {'mozzarella': ['mozzarella']}, 'vegetables': {'tomato': ['tomato']}, 'condiments': {'pesto': ['pesto']}, 'spices': {'basil': ['basil leave']}}, 'cost': 5.4, 'calories': 435, 'rating': 2, 'dietary_tags': ['vegetarian'], 'review_count': 1, 'reviews': []}, {'_id': 13, 'cuisine': 'american', 'restaurant': None, 'name': 'American Pastrami Sandwich', 'ingredients': {'breads': {'rye': ['rye bread']}, 'meats': {'pastrami': ['pastrami']}, 'cheeses': {'swiss': ['swiss cheese']}, 'vegetables': {}, 'condiments': {'dressing': ['thousand island dressing']}, 'spices': {}}, 'cost': 5.7, 'calories': 500, 'rating': 2, 'dietary_tags': [], 'review_count': 1, 'reviews': []}, {'_id': 14, 'cuisine': 'scandinavian', 'restaurant': None, 'name': 'Scandinavian Cream Cheese Sandwich', 'ingredients': {'breads': {'pumpernickel': ['pumpernickel bread']}, 'meats': {}, 'cheeses': {'cream cheese': ['cream cheese']}, 'vegetables': {'onion': ['red onion']}, 'condiments': {}, 'spices': {'dill': ['dill']}}, 'cost': 3.5, 'calories': 285, 'rating': 1, 'dietary_tags': ['vegetarian'], 'review_count': 1, 'reviews': []}, {'_id': 15, 'cuisine': 'american', 'restaurant': None, 'name': 'American Pork Sandwich', 'ingredients': {'breads': {'brioche': ['brioche bun']}, 'meats': {'pork': ['pulled pork']}, 'cheeses': {}, 'vegetables': {}, 'condiments': {'sauce': ['bbq sauce']}, 'spices': {}}, 'cost': 5.5, 'calories': 570, 'rating': 5, 'dietary_tags': [], 'review_count': 1, 'reviews': []}, {'_id': 16, 'cuisine': 'middle_eastern', 'restaurant': None, 'name': 'Middle Eastern Lettuce Sandwich', 'ingredients': {'breads': {'pita': ['pita bread']}, 'meats': {}, 'cheeses': {}, 'vegetables': {'lettuce': ['lettuce'], 'tomato': ['tomato'], 'cucumber': ['cucumber']}, 'condiments': {'sauce': ['tahini sauce']}, 'spices': {}}, 'cost': 3.0, 'calories': 290, 'rating': 3, 'dietary_tags': ['vegan'], 'review_count': 1, 'reviews': []}, {'_id': 17, 'cuisine': 'italian', 'restaurant': None, 'name': 'Italian Goat Cheese Sandwich', 'ingredients': {'breads': {'focaccia': ['focaccia']}, 'meats': {}, 'cheeses': {'goat cheese': ['goat cheese']}, 'vegetables': {}, 'condiments': {'glaze': ['balsamic glaze']}, 'spices': {}}, 'cost': 4.7, 'calories': 390, 'rating': 5, 'dietary_tags': ['vegetarian'], 'review_count': 1, 'reviews': []}, {'_id': 18, 'cuisine': 'french', 'restaurant': None, 'name': 'French Ham Sandwich', 'ingredients': {'breads': {'croissant': ['croissant']}, 'meats': {'ham': ['ham']}, 'cheeses': {'gruyere': ['gruyere cheese']}, 'vegetables': {}, 'condiments': {'mustard': ['dijon mustard']}, 'spices': {}}, 'cost': 5.5, 'calories': 545, 'rating': 5, 'dietary_tags': [], 'review_count': 1, 'reviews': []}, {'_id': 19, 'cuisine': 'american', 'restaurant': None, 'name': 'American Chicken Sandwich', 'ingredients': {'breads': {'tortilla': ['tortilla wrap']}, 'meats': {'chicken': ['grilled chicken'], 'bacon': ['bacon']}, 'cheeses': {}, 'vegetables': {'avocado': ['avocado'], 'lettuce': ['lettuce']}, 'condiments': {'dressing': ['ranch dressing']}, 'spices': {}}, 'cost': 6.8, 'calories': 640, 'rating': 5, 'dietary_tags': [], 'review_count': 1, 'reviews': []}, {'_id': 20, 'cuisine': 'american', 'restaurant': None, 'name': 'American Tuna Sandwich', 'ingredients': {'breads': {'white bread': ['toasted white bread']}, 'meats': {'tuna': ['tuna salad']}, 'cheeses': {'cheddar': ['cheddar cheese']}, 'vegetables': {'tomato': ['tomato']}, 'condiments': {}, 'spices': {}}, 'cost': 4.6, 'calories': 440, 'rating': 2, 'dietary_tags': [], 'review_count': 1, 'reviews': []}, {'_id': 21, 'cuisine': 'german', 'restaurant': None, 'name': 'German Bratwurst Sandwich', 'ingredients': {'breads': {'bun': ['pretzel bun']}, 'meats': {'bratwurst': ['bratwurst']}, 'cheeses': {}, 'vegetables': {}, 'condiments': {'mustard': ['whole grain mustard']}, 'spices': {}}, 'cost': 3.0, 'calories': 375, 'rating': 3, 'dietary_tags': [], 'review_count': 1, 'reviews': []}, {'_id': 22, 'cuisine': 'american', 'restaurant': None, 'name': 'American Egg Sandwich', 'ingredients': {'breads': {'english muffin': ['english muffin']}, 'meats': {'egg': ['egg'], 'bacon': ['canadian bacon']}, 'cheeses': {}, 'vegetables': {}, 'condiments': {'sauce': ['hollandaise sauce']}, 'spices': {}}, 'cost': 2.8, 'calories': 328, 'rating': 4, 'dietary_tags': [], 'review_count': 1, 'reviews': []}, {'_id': 23, 'cuisine': 'indian', 'restaurant': None, 'name': 'Indian Chicken Sandwich', 'ingredients': {'breads': {'naan': ['naan bread']}, 'meats': {'chicken': ['chicken tikka']}, 'cheeses': {}, 'vegetables': {'cucumber': ['cucumber'], 'onion': ['red onion']}, 'condiments': {'sauce': ['yogurt sauce']}, 'spices': {}}, 'cost': 4.5, 'calories': 600, 'rating': 2, 'dietary_tags': [], 'review_count': 1, 'reviews': []}, {'_id': 24, 'cuisine': 'french', 'restaurant': None, 'name': 'French Beef Sandwich', 'ingredients': {'breads': {'baguette': ['baguette']}, 'meats': {'beef': ['roast beef']}, 'cheeses': {}, 'vegetables': {'tomato': ['tomato']}, 'condiments': {'sauce': ['horseradish sauce']}, 'spices': {}}, 'cost': 5.6, 'calories': 570, 'rating': 4, 'dietary_tags': [], 'review_count': 1, 'reviews': []}, {'_id': 25, 'cuisine': 'american', 'restaurant': None, 'name': 'American Turkey Sandwich', 'ingredients': {'breads': {'multigrain': ['multigrain bread']}, 'meats': {'turkey': ['turkey']}, 'cheeses': {}, 'vegetables': {}, 'condiments': {'sauce': ['cranberry sauce']}, 'spices': {}}, 'cost': 4.5, 'calories': 450, 'rating': 4, 'dietary_tags': [], 'review_count': 1, 'reviews': []}, {'_id': 26, 'cuisine': 'chinese', 'restaurant': None, 'name': 'Chinese Pork Sandwich', 'ingredients': {'breads': {'bun': ['bao bun']}, 'meats': {'pork': ['pork belly']}, 'cheeses': {}, 'vegetables': {'cucumber': ['cucumber'], 'scallion': ['scallion']}, 'condiments': {'sauce': ['hoisin sauce']}, 'spices': {}}, 'cost': 4.4, 'calories': 405, 'rating': 1, 'dietary_tags': [], 'review_count': 1, 'reviews': []}, {'_id': 27, 'cuisine': 'italian', 'restaurant': None, 'name': 'Italian Egg Sandwich', 'ingredients': {'breads': {'ciabatta': ['ciabatta']}, 'meats': {'egg': ['grilled eggplant']}, 'cheeses': {'mozzarella': ['mozzarella']}, 'vegetables': {'eggplant': ['grilled eggplant'], 'pepper': ['roasted red pepper']}, 'condiments': {'pesto': ['basil pesto']}, 'spices': {'basil': ['basil pesto']}}, 'cost': 7.0, 'calories': 533, 'rating': 3, 'dietary_tags': ['vegetarian'], 'review_count': 1, 'reviews': []}, {'_id': 28, 'cuisine': 'greek', 'restaurant': None, 'name': 'Greek Chicken Sandwich', 'ingredients': {'breads': {'whole wheat': ['whole wheat wrap']}, 'meats': {'chicken': ['grilled chicken']}, 'cheeses': {'feta': ['feta cheese']}, 'vegetables': {'lettuce': ['lettuce'], 'tomato': ['tomato'], 'onion': ['red onion']}, 'condiments': {}, 'spices': {}}, 'cost': 5.7, 'calories': 520, 'rating': 1, 'dietary_tags': [], 'review_count': 1, 'reviews': []}, {'_id': 29, 'cuisine': 'french', 'restaurant': None, 'name': 'French Camembert Sandwich', 'ingredients': {'breads': {'baguette': ['baguette']}, 'meats': {}, 'cheeses': {'camembert': ['camembert']}, 'vegetables': {}, 'condiments': {'honey': ['honey']}, 'spices': {}}, 'cost': 3.7, 'calories': 405, 'rating': 2, 'dietary_tags': ['vegetarian'], 'review_count': 1, 'reviews': []}, {'_id': 30, 'cuisine': 'american', 'restaurant': None, 'name': 'American Turkey Sandwich', 'ingredients': {'breads': {'rye': ['rye bread']}, 'meats': {'turkey': ['smoked turkey']}, 'cheeses': {}, 'vegetables': {}, 'condiments': {'dressing': ['russian dressing']}, 'spices': {}}, 'cost': 5.0, 'calories': 460, 'rating': 5, 'dietary_tags': [], 'review_count': 1, 'reviews': []}, {'_id': 31, 'cuisine': 'california', 'restaurant': None, 'name': 'California Egg Sandwich', 'ingredients': {'breads': {'sourdough': ['sourdough bread']}, 'meats': {'egg': ['poached egg']}, 'cheeses': {}, 'vegetables': {'avocado': ['avocado'], 'tomato': ['cherry tomatoe']}, 'condiments': {}, 'spices': {}}, 'cost': 4.6, 'calories': 468, 'rating': 5, 'dietary_tags': ['vegetarian'], 'review_count': 1, 'reviews': []}, {'_id': 32, 'cuisine': 'jewish', 'restaurant': None, 'name': 'Jewish Cream Cheese Sandwich', 'ingredients': {'breads': {'bagel': ['bagel']}, 'meats': {}, 'cheeses': {'cream cheese': ['cream cheese']}, 'vegetables': {'onion': ['red onion']}, 'condiments': {}, 'spices': {'dill': ['dill']}}, 'cost': 2.7, 'calories': 345, 'rating': 2, 'dietary_tags': ['vegetarian'], 'review_count': 1, 'reviews': []}, {'_id': 33, 'cuisine': 'southern_us', 'restaurant': None, 'name': 'Southern Us Chicken Sandwich', 'ingredients': {'breads': {'brioche': ['brioche bun']}, 'meats': {'chicken': ['fried chicken']}, 'cheeses': {}, 'vegetables': {'pickle': ['pickle']}, 'condiments': {'honey': ['honey'], 'butter': ['butter']}, 'spices': {}}, 'cost': 6.2, 'calories': 665, 'rating': 2, 'dietary_tags': [], 'review_count': 1, 'reviews': []}, {'_id': 34, 'cuisine': 'middle_eastern', 'restaurant': None, 'name': 'Middle Eastern Halloumi Sandwich', 'ingredients': {'breads': {'baguette': ['baguette']}, 'meats': {}, 'cheeses': {'halloumi': ['grilled halloumi']}, 'vegetables': {}, 'condiments': {}, 'spices': {\"za'atar\": [\"za'atar\"]}}, 'cost': 3.6, 'calories': 365, 'rating': 4, 'dietary_tags': ['vegetarian'], 'review_count': 1, 'reviews': []}, {'_id': 35, 'cuisine': 'italian', 'restaurant': None, 'name': 'Italian Salami Sandwich', 'ingredients': {'breads': {'panini': ['panini bread']}, 'meats': {'salami': ['salami'], 'mortadella': ['mortadella']}, 'cheeses': {'provolone': ['provolone']}, 'vegetables': {'pepper': ['roasted red pepper'], 'olive': ['olive tapenade']}, 'condiments': {}, 'spices': {}}, 'cost': 9.2, 'calories': 580, 'rating': 5, 'dietary_tags': [], 'review_count': 1, 'reviews': []}, {'_id': 36, 'cuisine': 'american', 'restaurant': None, 'name': 'American Crab Sandwich', 'ingredients': {'breads': {'roll': ['potato roll']}, 'meats': {'crab': ['crab cake']}, 'cheeses': {}, 'vegetables': {'lettuce': ['lettuce'], 'tomato': ['tomato']}, 'condiments': {'sauce': ['remoulade sauce']}, 'spices': {}}, 'cost': 5.6, 'calories': 270, 'rating': 1, 'dietary_tags': [], 'review_count': 1, 'reviews': []}, {'_id': 37, 'cuisine': 'french', 'restaurant': None, 'name': 'French Ham Sandwich', 'ingredients': {'breads': {'baguette': ['baguette']}, 'meats': {'ham': ['ham']}, 'cheeses': {}, 'vegetables': {}, 'condiments': {'butter': ['butter']}, 'spices': {}}, 'cost': 4.0, 'calories': 500, 'rating': 2, 'dietary_tags': [], 'review_count': 1, 'reviews': []}, {'_id': 38, 'cuisine': 'american', 'restaurant': None, 'name': 'American  Sandwich', 'ingredients': {'breads': {'whole wheat': ['whole wheat bread']}, 'meats': {}, 'cheeses': {}, 'vegetables': {}, 'condiments': {'butter': ['almond butter'], 'honey': ['honey']}, 'spices': {'cinnamon': ['cinnamon']}}, 'cost': 2.8, 'calories': 350, 'rating': 3, 'dietary_tags': ['vegan'], 'review_count': 1, 'reviews': []}, {'_id': 39, 'cuisine': 'mexican', 'restaurant': None, 'name': 'Mexican Queso Fresco Sandwich', 'ingredients': {'breads': {'roll': ['torta roll']}, 'meats': {}, 'cheeses': {'queso fresco': ['queso fresco']}, 'vegetables': {'avocado': ['avocado'], 'pickle': ['pickled jalapeño']}, 'condiments': {}, 'spices': {}}, 'cost': 3.5, 'calories': 335, 'rating': 1, 'dietary_tags': ['vegetarian'], 'review_count': 1, 'reviews': []}, {'_id': 40, 'cuisine': 'german', 'restaurant': None, 'name': 'German Onion Sandwich', 'ingredients': {'breads': {'pumpernickel': ['pumpernickel bread']}, 'meats': {}, 'cheeses': {}, 'vegetables': {'onion': ['red onion']}, 'condiments': {'mustard': ['mustard']}, 'spices': {}}, 'cost': 2.7, 'calories': 235, 'rating': 1, 'dietary_tags': ['vegan'], 'review_count': 1, 'reviews': []}, {'_id': 41, 'cuisine': 'korean', 'restaurant': None, 'name': 'Korean Beef Sandwich', 'ingredients': {'breads': {'sourdough': ['sourdough bread']}, 'meats': {'beef': ['bulgogi beef']}, 'cheeses': {}, 'vegetables': {'kimchi': ['kimchi'], 'cucumber': ['cucumber']}, 'condiments': {}, 'spices': {}}, 'cost': 6.6, 'calories': 500, 'rating': 3, 'dietary_tags': [], 'review_count': 1, 'reviews': []}, {'_id': 42, 'cuisine': 'american', 'restaurant': None, 'name': 'American Bacon Sandwich', 'ingredients': {'breads': {'white bread': ['toasted white bread']}, 'meats': {'bacon': ['bacon']}, 'cheeses': {}, 'vegetables': {}, 'condiments': {'butter': ['peanut butter'], 'honey': ['honey']}, 'spices': {}}, 'cost': 3.2, 'calories': 370, 'rating': 1, 'dietary_tags': [], 'review_count': 1, 'reviews': []}, {'_id': 43, 'cuisine': 'italian', 'restaurant': None, 'name': 'Italian Prosciutto Sandwich', 'ingredients': {'breads': {'ciabatta': ['ciabatta']}, 'meats': {'prosciutto': ['prosciutto']}, 'cheeses': {'gorgonzola': ['gorgonzola']}, 'vegetables': {}, 'condiments': {'glaze': ['balsamic glaze']}, 'spices': {}}, 'cost': 7.0, 'calories': 480, 'rating': 2, 'dietary_tags': [], 'review_count': 1, 'reviews': []}, {'_id': 44, 'cuisine': 'middle_eastern', 'restaurant': None, 'name': 'Middle Eastern Chicken Sandwich', 'ingredients': {'breads': {'pita': ['pita bread']}, 'meats': {'chicken': ['shawarma chicken']}, 'cheeses': {}, 'vegetables': {'pickle': ['pickled turnip'], 'tomato': ['tomatoe']}, 'condiments': {'sauce': ['garlic sauce']}, 'spices': {'parsley': ['parsley']}}, 'cost': 5.1, 'calories': 480, 'rating': 4, 'dietary_tags': [], 'review_count': 1, 'reviews': []}, {'_id': 45, 'cuisine': 'vegetarian', 'restaurant': None, 'name': 'Vegetarian Pepper Sandwich', 'ingredients': {'breads': {'multigrain': ['multigrain bread']}, 'meats': {}, 'cheeses': {}, 'vegetables': {'pepper': ['roasted red pepper'], 'cucumber': ['cucumber'], 'avocado': ['avocado']}, 'condiments': {}, 'spices': {}}, 'cost': 4.1, 'calories': 400, 'rating': 1, 'dietary_tags': ['vegan'], 'review_count': 1, 'reviews': []}, {'_id': 46, 'cuisine': 'southern_us', 'restaurant': None, 'name': 'Southern Us Bacon Sandwich', 'ingredients': {'breads': {'potato bread': ['potato bread']}, 'meats': {'bacon': ['bacon']}, 'cheeses': {}, 'vegetables': {'tomato': ['fried green tomatoe'], 'lettuce': ['lettuce']}, 'condiments': {}, 'spices': {}}, 'cost': 3.1, 'calories': 260, 'rating': 5, 'dietary_tags': [], 'review_count': 1, 'reviews': []}, {'_id': 47, 'cuisine': 'french', 'restaurant': None, 'name': 'French Duck Sandwich', 'ingredients': {'breads': {'baguette': ['baguette']}, 'meats': {'duck': ['duck confit']}, 'cheeses': {'brie': ['brie cheese']}, 'vegetables': {}, 'condiments': {}, 'spices': {}}, 'cost': 7.0, 'calories': 695, 'rating': 5, 'dietary_tags': [], 'review_count': 1, 'reviews': []}, {'_id': 48, 'cuisine': 'indian', 'restaurant': None, 'name': 'Indian Chicken Sandwich', 'ingredients': {'breads': {'naan': ['naan bread']}, 'meats': {'chicken': ['tandoori chicken']}, 'cheeses': {}, 'vegetables': {'onion': ['onion'], 'cucumber': ['cucumber raita']}, 'condiments': {'chutney': ['mint chutney']}, 'spices': {}}, 'cost': 5.0, 'calories': 600, 'rating': 3, 'dietary_tags': [], 'review_count': 1, 'reviews': []}, {'_id': 49, 'cuisine': 'vegetarian', 'restaurant': None, 'name': 'Vegetarian Goat Cheese Sandwich', 'ingredients': {'breads': {'sourdough': ['sourdough bread']}, 'meats': {}, 'cheeses': {'goat cheese': ['goat cheese']}, 'vegetables': {'beet': ['beetroot hummu'], 'spinach': ['spinach']}, 'condiments': {}, 'spices': {}}, 'cost': 4.7, 'calories': 355, 'rating': 5, 'dietary_tags': ['vegetarian'], 'review_count': 1, 'reviews': []}, {'_id': 50, 'cuisine': 'german', 'restaurant': None, 'name': 'German  Sandwich', 'ingredients': {'breads': {'roll': ['pretzel roll']}, 'meats': {}, 'cheeses': {}, 'vegetables': {}, 'condiments': {'mustard': ['mustard']}, 'spices': {}}, 'cost': 1.0, 'calories': 125, 'rating': 1, 'dietary_tags': ['vegan'], 'review_count': 1, 'reviews': []}, {'_id': 51, 'cuisine': 'new_england', 'restaurant': None, 'name': 'New England Lobster Sandwich', 'ingredients': {'breads': {'brioche': ['brioche bun']}, 'meats': {'lobster': ['lobster meat']}, 'cheeses': {}, 'vegetables': {'celery': ['celery']}, 'condiments': {'aioli': ['lemon aioli']}, 'spices': {}}, 'cost': 8.8, 'calories': 495, 'rating': 1, 'dietary_tags': [], 'review_count': 1, 'reviews': []}, {'_id': 52, 'cuisine': 'italian', 'restaurant': None, 'name': 'Italian Mortadella Sandwich', 'ingredients': {'breads': {'focaccia': ['focaccia']}, 'meats': {'mortadella': ['mortadella']}, 'cheeses': {'burrata': ['burrata']}, 'vegetables': {}, 'condiments': {'pesto': ['pistachio pesto']}, 'spices': {}}, 'cost': 7.0, 'calories': 510, 'rating': 4, 'dietary_tags': [], 'review_count': 1, 'reviews': []}, {'_id': 53, 'cuisine': 'middle_eastern', 'restaurant': None, 'name': 'Middle Eastern Pickle Sandwich', 'ingredients': {'breads': {'whole wheat': ['whole wheat wrap']}, 'meats': {}, 'cheeses': {}, 'vegetables': {'pickle': ['pickled turnip']}, 'condiments': {'sauce': ['tahini sauce']}, 'spices': {}}, 'cost': 2.0, 'calories': 235, 'rating': 1, 'dietary_tags': ['vegan'], 'review_count': 1, 'reviews': []}, {'_id': 54, 'cuisine': 'scandinavian', 'restaurant': None, 'name': 'Scandinavian Pickle Sandwich', 'ingredients': {'breads': {'rye': ['rye bread']}, 'meats': {}, 'cheeses': {}, 'vegetables': {'pickle': ['pickled beet']}, 'condiments': {'horseradish': ['horseradish cream']}, 'spices': {'dill': ['dill']}}, 'cost': 3.3, 'calories': 220, 'rating': 4, 'dietary_tags': ['vegan'], 'review_count': 1, 'reviews': []}, {'_id': 55, 'cuisine': 'italian', 'restaurant': None, 'name': 'Italian  Sandwich', 'ingredients': {'breads': {'ciabatta': ['ciabatta']}, 'meats': {}, 'cheeses': {}, 'vegetables': {}, 'condiments': {'salsa': ['salsa verde']}, 'spices': {}}, 'cost': 2.6, 'calories': 265, 'rating': 4, 'dietary_tags': ['vegan'], 'review_count': 1, 'reviews': []}, {'_id': 56, 'cuisine': 'japanese', 'restaurant': None, 'name': 'Japanese Chicken Sandwich', 'ingredients': {'breads': {'milk bread': ['milk bread']}, 'meats': {'chicken': ['katsu chicken']}, 'cheeses': {}, 'vegetables': {'cabbage': ['shredded cabbage']}, 'condiments': {'sauce': ['tonkatsu sauce']}, 'spices': {}}, 'cost': 4.9, 'calories': 495, 'rating': 5, 'dietary_tags': [], 'review_count': 1, 'reviews': []}, {'_id': 57, 'cuisine': 'british', 'restaurant': None, 'name': 'British Beef Sandwich', 'ingredients': {'breads': {'baguette': ['baguette']}, 'meats': {'beef': ['roast beef']}, 'cheeses': {'blue cheese': ['blue cheese']}, 'vegetables': {'onion': ['caramelized onion']}, 'condiments': {}, 'spices': {}}, 'cost': 6.4, 'calories': 640, 'rating': 5, 'dietary_tags': [], 'review_count': 1, 'reviews': []}, {'_id': 58, 'cuisine': 'mediterranean', 'restaurant': None, 'name': 'Mediterranean Lamb Sandwich', 'ingredients': {'breads': {'pita': ['pita pocket']}, 'meats': {'lamb': ['lamb kofta']}, 'cheeses': {}, 'vegetables': {'tomato': ['tomato'], 'onion': ['red onion']}, 'condiments': {}, 'spices': {'sumac': ['sumac']}}, 'cost': 6.1, 'calories': 515, 'rating': 2, 'dietary_tags': [], 'review_count': 1, 'reviews': []}, {'_id': 59, 'cuisine': 'french', 'restaurant': None, 'name': 'French Cream Cheese Sandwich', 'ingredients': {'breads': {'croissant': ['croissant']}, 'meats': {}, 'cheeses': {'cream cheese': ['dill cream cheese']}, 'vegetables': {'cucumber': ['cucumber']}, 'condiments': {}, 'spices': {'dill': ['dill cream cheese']}}, 'cost': 3.2, 'calories': 345, 'rating': 2, 'dietary_tags': ['vegetarian'], 'review_count': 1, 'reviews': []}, {'_id': 60, 'cuisine': 'american', 'restaurant': None, 'name': 'American  Sandwich', 'ingredients': {'breads': {'white bread': ['toasted white bread']}, 'meats': {}, 'cheeses': {}, 'vegetables': {}, 'condiments': {}, 'spices': {}}, 'cost': 1.0, 'calories': 160, 'rating': 2, 'dietary_tags': ['vegan'], 'review_count': 1, 'reviews': []}, {'_id': 61, 'cuisine': 'venezuelan', 'restaurant': None, 'name': 'Venezuelan Queso Fresco Sandwich', 'ingredients': {'breads': {}, 'meats': {}, 'cheeses': {'queso fresco': ['queso fresco']}, 'vegetables': {'avocado': ['avocado']}, 'condiments': {}, 'spices': {}}, 'cost': 2.5, 'calories': 210, 'rating': 1, 'dietary_tags': ['vegetarian'], 'review_count': 1, 'reviews': []}, {'_id': 62, 'cuisine': 'vegan', 'restaurant': None, 'name': 'Vegan Tomato Sandwich', 'ingredients': {'breads': {'multigrain': ['multigrain bread']}, 'meats': {}, 'cheeses': {}, 'vegetables': {'tomato': ['tomato'], 'avocado': ['avocado']}, 'condiments': {}, 'spices': {}}, 'cost': 3.6, 'calories': 390, 'rating': 4, 'dietary_tags': ['vegan'], 'review_count': 1, 'reviews': []}, {'_id': 63, 'cuisine': 'french', 'restaurant': None, 'name': 'French  Sandwich', 'ingredients': {'breads': {'baguette': ['baguette']}, 'meats': {}, 'cheeses': {}, 'vegetables': {}, 'condiments': {'mustard': ['dijon mustard'], 'butter': ['butter']}, 'spices': {}}, 'cost': 2.5, 'calories': 355, 'rating': 5, 'dietary_tags': ['vegan'], 'review_count': 1, 'reviews': []}, {'_id': 64, 'cuisine': 'british', 'restaurant': None, 'name': 'British Egg Sandwich', 'ingredients': {'breads': {'whole wheat': ['whole wheat bread']}, 'meats': {'egg': ['egg salad']}, 'cheeses': {}, 'vegetables': {'radish': ['radish slice']}, 'condiments': {}, 'spices': {}}, 'cost': 1.9, 'calories': 268, 'rating': 5, 'dietary_tags': ['vegetarian'], 'review_count': 1, 'reviews': []}, {'_id': 65, 'cuisine': 'mexican', 'restaurant': None, 'name': 'Mexican Queso Fresco Sandwich', 'ingredients': {'breads': {'tortilla': ['tortilla']}, 'meats': {}, 'cheeses': {'queso fresco': ['queso fresco']}, 'vegetables': {}, 'condiments': {'guacamole': ['guacamole']}, 'spices': {}}, 'cost': 3.3, 'calories': 260, 'rating': 3, 'dietary_tags': ['vegetarian'], 'review_count': 1, 'reviews': []}, {'_id': 66, 'cuisine': 'scandinavian', 'restaurant': None, 'name': 'Scandinavian Onion Sandwich', 'ingredients': {'breads': {'pumpernickel': ['pumpernickel bread']}, 'meats': {}, 'cheeses': {}, 'vegetables': {'onion': ['red onion']}, 'condiments': {'mustard': ['mustard-dill sauce']}, 'spices': {'dill': ['mustard-dill sauce']}}, 'cost': 3.2, 'calories': 240, 'rating': 5, 'dietary_tags': ['vegan'], 'review_count': 1, 'reviews': []}, {'_id': 67, 'cuisine': 'southern_us', 'restaurant': None, 'name': 'Southern Us Crab Sandwich', 'ingredients': {'breads': {'brioche': ['brioche bun']}, 'meats': {'crab': ['fried soft-shell crab']}, 'cheeses': {}, 'vegetables': {'lettuce': ['lettuce'], 'tomato': ['tomato']}, 'condiments': {'sauce': ['remoulade sauce']}, 'spices': {}}, 'cost': 7.6, 'calories': 450, 'rating': 4, 'dietary_tags': [], 'review_count': 1, 'reviews': []}, {'_id': 68, 'cuisine': 'mediterranean', 'restaurant': None, 'name': 'Mediterranean Goat Cheese Sandwich', 'ingredients': {'breads': {'baguette': ['baguette']}, 'meats': {}, 'cheeses': {'goat cheese': ['goat cheese']}, 'vegetables': {'olive': ['olive tapenade']}, 'condiments': {}, 'spices': {'basil': ['basil']}}, 'cost': 5.0, 'calories': 385, 'rating': 3, 'dietary_tags': ['vegetarian'], 'review_count': 1, 'reviews': []}, {'_id': 69, 'cuisine': 'italian_american', 'restaurant': None, 'name': 'Italian American Meatball Sandwich', 'ingredients': {'breads': {'sourdough': ['sourdough bread']}, 'meats': {'meatball': ['meatball']}, 'cheeses': {'provolone': ['provolone cheese']}, 'vegetables': {}, 'condiments': {'sauce': ['marinara sauce']}, 'spices': {}}, 'cost': 5.5, 'calories': 510, 'rating': 3, 'dietary_tags': [], 'review_count': 1, 'reviews': []}, {'_id': 70, 'cuisine': 'greek', 'restaurant': None, 'name': 'Greek Gyro Sandwich', 'ingredients': {'breads': {'pita': ['pita bread']}, 'meats': {'gyro': ['gyro meat']}, 'cheeses': {'feta': ['feta cheese']}, 'vegetables': {'tomato': ['tomatoe'], 'onion': ['onion']}, 'condiments': {'sauce': ['tzatziki sauce']}, 'spices': {}}, 'cost': 6.2, 'calories': 600, 'rating': 4, 'dietary_tags': [], 'review_count': 1, 'reviews': []}, {'_id': 71, 'cuisine': 'indian', 'restaurant': None, 'name': 'Indian Chicken Sandwich', 'ingredients': {'breads': {'flatbread': ['flatbread']}, 'meats': {'chicken': ['butter chicken']}, 'cheeses': {}, 'vegetables': {'onion': ['pickled onion']}, 'condiments': {'butter': ['butter chicken'], 'chutney': ['cilantro chutney']}, 'spices': {}}, 'cost': 4.9, 'calories': 570, 'rating': 3, 'dietary_tags': [], 'review_count': 1, 'reviews': []}, {'_id': 72, 'cuisine': 'french', 'restaurant': None, 'name': 'French  Sandwich', 'ingredients': {'breads': {'croissant': ['croissant']}, 'meats': {}, 'cheeses': {}, 'vegetables': {}, 'condiments': {'butter': ['almond butter'], 'honey': ['honey']}, 'spices': {'cinnamon': ['cinnamon']}}, 'cost': 3.3, 'calories': 450, 'rating': 3, 'dietary_tags': ['vegan'], 'review_count': 1, 'reviews': []}, {'_id': 73, 'cuisine': 'vegan', 'restaurant': None, 'name': 'Vegan Bacon Sandwich', 'ingredients': {'breads': {'whole wheat': ['whole wheat bread']}, 'meats': {'bacon': ['tempeh bacon']}, 'cheeses': {}, 'vegetables': {'lettuce': ['lettuce'], 'tomato': ['tomato'], 'avocado': ['avocado']}, 'condiments': {}, 'spices': {}}, 'cost': 4.6, 'calories': 410, 'rating': 5, 'dietary_tags': [], 'review_count': 1, 'reviews': []}, {'_id': 74, 'cuisine': 'american', 'restaurant': None, 'name': 'American Beef Sandwich', 'ingredients': {'breads': {'rye': ['rye bread']}, 'meats': {'beef': ['corned beef']}, 'cheeses': {'swiss': ['swiss cheese']}, 'vegetables': {}, 'condiments': {'dressing': ['russian dressing']}, 'spices': {}}, 'cost': 6.7, 'calories': 630, 'rating': 3, 'dietary_tags': [], 'review_count': 1, 'reviews': []}, {'_id': 75, 'cuisine': 'chinese', 'restaurant': None, 'name': 'Chinese Pork Sandwich', 'ingredients': {'breads': {'bun': ['bao bun']}, 'meats': {'pork': ['char siu pork']}, 'cheeses': {}, 'vegetables': {'cucumber': ['pickled cucumber'], 'scallion': ['scallion']}, 'condiments': {'sauce': ['hoisin sauce']}, 'spices': {}}, 'cost': 4.4, 'calories': 405, 'rating': 5, 'dietary_tags': [], 'review_count': 1, 'reviews': []}, {'_id': 76, 'cuisine': 'italian', 'restaurant': None, 'name': 'Italian Fennel Sandwich', 'ingredients': {'breads': {'ciabatta': ['ciabatta']}, 'meats': {}, 'cheeses': {}, 'vegetables': {'fennel': ['fennel slaw']}, 'condiments': {'salsa': ['salsa verde'], 'aioli': ['lemon aioli']}, 'spices': {}}, 'cost': 4.8, 'calories': 375, 'rating': 3, 'dietary_tags': ['vegan'], 'review_count': 1, 'reviews': []}, {'_id': 77, 'cuisine': 'mexican', 'restaurant': None, 'name': 'Mexican Queso Fresco Sandwich', 'ingredients': {'breads': {'roll': ['bolillo roll']}, 'meats': {}, 'cheeses': {'queso fresco': ['queso fresco']}, 'vegetables': {'avocado': ['avocado'], 'pickle': ['pickled jalapeño']}, 'condiments': {}, 'spices': {}}, 'cost': 3.5, 'calories': 335, 'rating': 3, 'dietary_tags': ['vegetarian'], 'review_count': 1, 'reviews': []}, {'_id': 78, 'cuisine': 'american', 'restaurant': None, 'name': 'American Turkey Sandwich', 'ingredients': {'breads': {}, 'meats': {'turkey': ['roasted turkey']}, 'cheeses': {'brie': ['brie cheese']}, 'vegetables': {}, 'condiments': {'sauce': ['cranberry sauce']}, 'spices': {}}, 'cost': 4.5, 'calories': 325, 'rating': 1, 'dietary_tags': [], 'review_count': 1, 'reviews': []}, {'_id': 79, 'cuisine': 'spanish', 'restaurant': None, 'name': 'Spanish  Sandwich', 'ingredients': {'breads': {'baguette': ['baguette']}, 'meats': {}, 'cheeses': {}, 'vegetables': {}, 'condiments': {'oil': ['olive oil']}, 'spices': {}}, 'cost': 2.3, 'calories': 370, 'rating': 1, 'dietary_tags': ['vegan'], 'review_count': 1, 'reviews': []}, {'_id': 80, 'cuisine': 'indian', 'restaurant': None, 'name': 'Indian Onion Sandwich', 'ingredients': {'breads': {'naan': ['naan bread']}, 'meats': {}, 'cheeses': {}, 'vegetables': {'onion': ['red onion']}, 'condiments': {'chutney': ['mint chutney']}, 'spices': {}}, 'cost': 2.6, 'calories': 390, 'rating': 5, 'dietary_tags': ['vegan'], 'review_count': 1, 'reviews': []}, {'_id': 81, 'cuisine': 'vegan', 'restaurant': None, 'name': 'Vegan Pickle Sandwich', 'ingredients': {'breads': {'roll': ['potato roll']}, 'meats': {}, 'cheeses': {}, 'vegetables': {'pickle': ['pickle']}, 'condiments': {'sauce': ['bbq sauce']}, 'spices': {}}, 'cost': 1.5, 'calories': 175, 'rating': 5, 'dietary_tags': ['vegan'], 'review_count': 1, 'reviews': []}, {'_id': 82, 'cuisine': 'italian', 'restaurant': None, 'name': 'Italian Mozzarella Sandwich', 'ingredients': {'breads': {'focaccia': ['focaccia']}, 'meats': {}, 'cheeses': {'mozzarella': ['mozzarella']}, 'vegetables': {'tomato': ['sun-dried tomatoe']}, 'condiments': {'pesto': ['basil pesto']}, 'spices': {'basil': ['basil pesto']}}, 'cost': 5.6, 'calories': 435, 'rating': 5, 'dietary_tags': ['vegetarian'], 'review_count': 1, 'reviews': []}, {'_id': 83, 'cuisine': 'scandinavian', 'restaurant': None, 'name': 'Scandinavian Cream Cheese Sandwich', 'ingredients': {'breads': {'sourdough': ['sourdough bread']}, 'meats': {}, 'cheeses': {'cream cheese': ['cream cheese']}, 'vegetables': {'cucumber': ['cucumber']}, 'condiments': {}, 'spices': {'dill': ['dill']}}, 'cost': 3.7, 'calories': 285, 'rating': 5, 'dietary_tags': ['vegetarian'], 'review_count': 1, 'reviews': []}, {'_id': 84, 'cuisine': 'southern_us', 'restaurant': None, 'name': 'Southern Us Chicken Sandwich', 'ingredients': {'breads': {'brioche': ['brioche bun']}, 'meats': {'chicken': ['nashville hot chicken']}, 'cheeses': {}, 'vegetables': {'pickle': ['pickle slice']}, 'condiments': {'dressing': ['ranch dressing']}, 'spices': {}}, 'cost': 6.0, 'calories': 585, 'rating': 3, 'dietary_tags': [], 'review_count': 1, 'reviews': []}, {'_id': 85, 'cuisine': 'german', 'restaurant': None, 'name': 'German Bratwurst Sandwich', 'ingredients': {'breads': {'roll': ['pretzel roll']}, 'meats': {'bratwurst': ['beer-braised bratwurst']}, 'cheeses': {}, 'vegetables': {'onion': ['caramelized onion']}, 'condiments': {'mustard': ['beer mustard']}, 'spices': {}}, 'cost': 3.4, 'calories': 415, 'rating': 3, 'dietary_tags': [], 'review_count': 1, 'reviews': []}, {'_id': 86, 'cuisine': 'israeli', 'restaurant': None, 'name': 'Israeli Egg Sandwich', 'ingredients': {'breads': {'pita': ['pita bread']}, 'meats': {'egg': ['eggplant', 'hard-boiled egg']}, 'cheeses': {}, 'vegetables': {'eggplant': ['eggplant']}, 'condiments': {'oil': ['hard-boiled egg'], 'sauce': ['amba sauce']}, 'spices': {}}, 'cost': 3.8, 'calories': 468, 'rating': 2, 'dietary_tags': ['vegetarian'], 'review_count': 1, 'reviews': []}, {'_id': 87, 'cuisine': 'french', 'restaurant': None, 'name': 'French Beef Sandwich', 'ingredients': {'breads': {'baguette': ['baguette']}, 'meats': {'beef': ['beef bourguignon']}, 'cheeses': {}, 'vegetables': {}, 'condiments': {'mustard': ['dijon mustard']}, 'spices': {}}, 'cost': 5.0, 'calories': 505, 'rating': 1, 'dietary_tags': [], 'review_count': 1, 'reviews': []}, {'_id': 88, 'cuisine': 'japanese', 'restaurant': None, 'name': 'Japanese Cucumber Sandwich', 'ingredients': {'breads': {'milk bread': ['milk bread']}, 'meats': {}, 'cheeses': {}, 'vegetables': {'cucumber': ['cucumber']}, 'condiments': {}, 'spices': {}}, 'cost': 2.2, 'calories': 230, 'rating': 3, 'dietary_tags': ['vegan'], 'review_count': 1, 'reviews': []}, {'_id': 89, 'cuisine': 'italian', 'restaurant': None, 'name': 'Italian Bresaola Sandwich', 'ingredients': {'breads': {'ciabatta': ['ciabatta']}, 'meats': {'bresaola': ['bresaola']}, 'cheeses': {'parmesan': ['shaved parmesan']}, 'vegetables': {}, 'condiments': {'oil': ['lemon olive oil']}, 'spices': {}}, 'cost': 7.1, 'calories': 550, 'rating': 3, 'dietary_tags': [], 'review_count': 1, 'reviews': []}, {'_id': 90, 'cuisine': 'british', 'restaurant': None, 'name': 'British Egg Sandwich', 'ingredients': {'breads': {}, 'meats': {'egg': ['curried egg salad']}, 'cheeses': {}, 'vegetables': {'cucumber': ['cucumber'], 'lettuce': ['lettuce']}, 'condiments': {'chutney': ['mango chutney']}, 'spices': {}}, 'cost': 2.4, 'calories': 148, 'rating': 2, 'dietary_tags': ['vegetarian'], 'review_count': 1, 'reviews': []}, {'_id': 91, 'cuisine': 'mexican', 'restaurant': None, 'name': 'Mexican Onion Sandwich', 'ingredients': {'breads': {'roll': ['torta roll']}, 'meats': {}, 'cheeses': {}, 'vegetables': {'onion': ['pickled red onion'], 'avocado': ['avocado']}, 'condiments': {'salsa': ['habanero salsa']}, 'spices': {}}, 'cost': 3.2, 'calories': 325, 'rating': 4, 'dietary_tags': ['vegan'], 'review_count': 1, 'reviews': []}, {'_id': 92, 'cuisine': 'french', 'restaurant': None, 'name': 'French Goat Cheese Sandwich', 'ingredients': {'breads': {'baguette': ['baguette']}, 'meats': {}, 'cheeses': {'goat cheese': ['goat cheese']}, 'vegetables': {}, 'condiments': {'oil': ['olive oil']}, 'spices': {'basil': ['basil']}}, 'cost': 4.3, 'calories': 455, 'rating': 5, 'dietary_tags': ['vegetarian'], 'review_count': 1, 'reviews': []}, {'_id': 93, 'cuisine': 'vegan', 'restaurant': None, 'name': 'Vegan Pepper Sandwich', 'ingredients': {'breads': {'multigrain': ['multigrain bread']}, 'meats': {}, 'cheeses': {}, 'vegetables': {'pepper': ['roasted red pepper'], 'spinach': ['spinach']}, 'condiments': {'pesto': ['vegan pesto']}, 'spices': {}}, 'cost': 4.2, 'calories': 335, 'rating': 2, 'dietary_tags': ['vegan'], 'review_count': 1, 'reviews': []}, {'_id': 94, 'cuisine': 'southern_us', 'restaurant': None, 'name': 'Southern Us Tomato Sandwich', 'ingredients': {'breads': {'potato bread': ['potato bread']}, 'meats': {}, 'cheeses': {}, 'vegetables': {'tomato': ['tomato jam']}, 'condiments': {}, 'spices': {}}, 'cost': 1.6, 'calories': 200, 'rating': 3, 'dietary_tags': ['vegan'], 'review_count': 1, 'reviews': []}, {'_id': 95, 'cuisine': 'chinese', 'restaurant': None, 'name': 'Chinese Duck Sandwich', 'ingredients': {'breads': {'bun': ['bao bun']}, 'meats': {'duck': ['peking duck']}, 'cheeses': {}, 'vegetables': {'cucumber': ['cucumber'], 'scallion': ['scallion']}, 'condiments': {'sauce': ['hoisin sauce']}, 'spices': {}}, 'cost': 5.9, 'calories': 535, 'rating': 5, 'dietary_tags': [], 'review_count': 1, 'reviews': []}, {'_id': 96, 'cuisine': 'vegan', 'restaurant': None, 'name': 'Vegan Swiss Sandwich', 'ingredients': {'breads': {'sourdough': ['sourdough bread']}, 'meats': {}, 'cheeses': {'swiss': ['vegan swiss cheese']}, 'vegetables': {}, 'condiments': {'dressing': ['vegan thousand island dressing']}, 'spices': {}}, 'cost': 4.2, 'calories': 400, 'rating': 2, 'dietary_tags': ['vegetarian'], 'review_count': 1, 'reviews': []}, {'_id': 97, 'cuisine': 'north_african', 'restaurant': None, 'name': 'North African Sausage Sandwich', 'ingredients': {'breads': {'baguette': ['baguette']}, 'meats': {'sausage': ['merguez sausage']}, 'cheeses': {}, 'vegetables': {'pepper': ['roasted bell pepper']}, 'condiments': {}, 'spices': {'sage': ['merguez sausage']}}, 'cost': 4.2, 'calories': 455, 'rating': 2, 'dietary_tags': [], 'review_count': 1, 'reviews': []}, {'_id': 98, 'cuisine': 'japanese', 'restaurant': None, 'name': 'Japanese Cabbage Sandwich', 'ingredients': {'breads': {'milk bread': ['milk bread']}, 'meats': {}, 'cheeses': {}, 'vegetables': {'cabbage': ['shredded cabbage']}, 'condiments': {'sauce': ['bulldog sauce']}, 'spices': {}}, 'cost': 2.9, 'calories': 295, 'rating': 5, 'dietary_tags': ['vegan'], 'review_count': 1, 'reviews': []}, {'_id': 99, 'cuisine': 'middle_eastern', 'restaurant': None, 'name': 'Middle Eastern Shawarma Sandwich', 'ingredients': {'breads': {'pita': ['pita bread']}, 'meats': {'shawarma': ['shawarma-spiced cauliflower']}, 'cheeses': {}, 'vegetables': {'pickle': ['pickled turnip']}, 'condiments': {'sauce': ['tahini sauce']}, 'spices': {'parsley': ['parsley']}}, 'cost': 5.0, 'calories': 480, 'rating': 5, 'dietary_tags': [], 'review_count': 1, 'reviews': []}, {'_id': 100, 'cuisine': 'italian', 'restaurant': None, 'name': 'Italian  Sandwich', 'ingredients': {'breads': {'ciabatta': ['ciabatta']}, 'meats': {}, 'cheeses': {}, 'vegetables': {}, 'condiments': {}, 'spices': {}}, 'cost': 1.8, 'calories': 250, 'rating': 3, 'dietary_tags': ['vegan'], 'review_count': 1, 'reviews': []}, {'_id': 101, 'cuisine': 'german', 'restaurant': None, 'name': 'German Onion Sandwich', 'ingredients': {'breads': {'roll': ['pretzel roll']}, 'meats': {}, 'cheeses': {}, 'vegetables': {'onion': ['fried onion']}, 'condiments': {'mustard': ['sweet mustard']}, 'spices': {}}, 'cost': 1.4, 'calories': 165, 'rating': 1, 'dietary_tags': ['vegan'], 'review_count': 1, 'reviews': []}, {'_id': 102, 'cuisine': 'american', 'restaurant': None, 'name': 'American Pork Sandwich', 'ingredients': {'breads': {'brioche': ['brioche bun']}, 'meats': {'pork': ['pork belly']}, 'cheeses': {}, 'vegetables': {}, 'condiments': {'sauce': ['bourbon barbecue sauce']}, 'spices': {}}, 'cost': 5.5, 'calories': 570, 'rating': 2, 'dietary_tags': [], 'review_count': 1, 'reviews': []}, {'_id': 103, 'cuisine': 'levantine', 'restaurant': None, 'name': 'Levantine Egg Sandwich', 'ingredients': {'breads': {'whole wheat': ['whole wheat wrap']}, 'meats': {'egg': ['roasted eggplant']}, 'cheeses': {'halloumi': ['grilled halloumi']}, 'vegetables': {'eggplant': ['roasted eggplant'], 'tomato': ['tomato']}, 'condiments': {}, 'spices': {\"za'atar\": [\"za'atar\"]}}, 'cost': 5.2, 'calories': 413, 'rating': 2, 'dietary_tags': ['vegetarian'], 'review_count': 1, 'reviews': []}, {'_id': 104, 'cuisine': 'french', 'restaurant': None, 'name': 'French Egg Sandwich', 'ingredients': {'breads': {'baguette': ['baguette']}, 'meats': {'egg': ['quail egg yolk']}, 'cheeses': {}, 'vegetables': {}, 'condiments': {'mustard': ['dijon mustard']}, 'spices': {}}, 'cost': 2.5, 'calories': 333, 'rating': 5, 'dietary_tags': ['vegetarian'], 'review_count': 1, 'reviews': []}, {'_id': 105, 'cuisine': 'indian', 'restaurant': None, 'name': 'Indian Paneer Sandwich', 'ingredients': {'breads': {'naan': ['naan bread']}, 'meats': {}, 'cheeses': {'paneer': ['paneer tikka']}, 'vegetables': {'onion': ['red onion']}, 'condiments': {'chutney': ['mint chutney', 'tamarind chutney']}, 'spices': {}}, 'cost': 3.6, 'calories': 490, 'rating': 1, 'dietary_tags': ['vegetarian'], 'review_count': 1, 'reviews': []}, {'_id': 106, 'cuisine': 'middle_eastern', 'restaurant': None, 'name': 'Middle Eastern Tomato Sandwich', 'ingredients': {'breads': {'multigrain': ['multigrain bread']}, 'meats': {}, 'cheeses': {}, 'vegetables': {'tomato': ['roasted cherry tomatoe']}, 'condiments': {}, 'spices': {\"za'atar\": [\"za'atar\"]}}, 'cost': 2.7, 'calories': 245, 'rating': 3, 'dietary_tags': ['vegan'], 'review_count': 1, 'reviews': []}, {'_id': 107, 'cuisine': 'mexican', 'restaurant': None, 'name': 'Mexican Onion Sandwich', 'ingredients': {'breads': {'tortilla': ['corn tortilla']}, 'meats': {}, 'cheeses': {}, 'vegetables': {'onion': ['onion']}, 'condiments': {}, 'spices': {}}, 'cost': 1.2, 'calories': 190, 'rating': 1, 'dietary_tags': ['vegan'], 'review_count': 1, 'reviews': []}, {'_id': 108, 'cuisine': 'french', 'restaurant': None, 'name': 'French Sausage Sandwich', 'ingredients': {'breads': {'baguette': ['baguette']}, 'meats': {'sausage': ['blood sausage']}, 'cheeses': {}, 'vegetables': {}, 'condiments': {'mustard': ['wholegrain mustard']}, 'spices': {'sage': ['blood sausage']}}, 'cost': 4.0, 'calories': 440, 'rating': 5, 'dietary_tags': [], 'review_count': 1, 'reviews': []}, {'_id': 109, 'cuisine': 'italian', 'restaurant': None, 'name': 'Italian Stracciatella Sandwich', 'ingredients': {'breads': {'focaccia': ['focaccia']}, 'meats': {}, 'cheeses': {'stracciatella': ['stracciatella cheese']}, 'vegetables': {'tomato': ['roasted cherry tomatoe']}, 'condiments': {}, 'spices': {'basil': ['basil']}}, 'cost': 4.6, 'calories': 365, 'rating': 1, 'dietary_tags': ['vegetarian'], 'review_count': 1, 'reviews': []}, {'_id': 110, 'cuisine': 'korean', 'restaurant': None, 'name': 'Korean Beef Sandwich', 'ingredients': {'breads': {'bun': ['steamed bun']}, 'meats': {'beef': ['bulgogi beef']}, 'cheeses': {}, 'vegetables': {'kimchi': ['kimchi']}, 'condiments': {}, 'spices': {}}, 'cost': 4.7, 'calories': 390, 'rating': 5, 'dietary_tags': [], 'review_count': 1, 'reviews': []}, {'_id': 111, 'cuisine': 'scandinavian', 'restaurant': None, 'name': 'Scandinavian Pickle Sandwich', 'ingredients': {'breads': {'rye': ['rye bread']}, 'meats': {}, 'cheeses': {}, 'vegetables': {'pickle': ['pickled herring'], 'onion': ['red onion']}, 'condiments': {}, 'spices': {'dill': ['dill']}}, 'cost': 2.9, 'calories': 250, 'rating': 1, 'dietary_tags': ['vegan'], 'review_count': 1, 'reviews': []}, {'_id': 112, 'cuisine': 'french', 'restaurant': None, 'name': 'French  Sandwich', 'ingredients': {'breads': {'baguette': ['baguette']}, 'meats': {}, 'cheeses': {}, 'vegetables': {}, 'condiments': {'butter': [\"piment d'espelette butter\"]}, 'spices': {}}, 'cost': 2.0, 'calories': 350, 'rating': 2, 'dietary_tags': ['vegan'], 'review_count': 1, 'reviews': []}, {'_id': 113, 'cuisine': 'british', 'restaurant': None, 'name': 'British Chicken Sandwich', 'ingredients': {'breads': {'white bread': ['toasted white bread']}, 'meats': {'chicken': ['coronation chicken']}, 'cheeses': {}, 'vegetables': {}, 'condiments': {'chutney': ['mango chutney']}, 'spices': {'coriander': ['coriander leave']}}, 'cost': 4.5, 'calories': 420, 'rating': 3, 'dietary_tags': [], 'review_count': 1, 'reviews': []}, {'_id': 114, 'cuisine': 'baltic', 'restaurant': None, 'name': 'Baltic Egg Sandwich', 'ingredients': {'breads': {}, 'meats': {'egg': ['hard-boiled egg']}, 'cheeses': {}, 'vegetables': {'onion': ['red onion']}, 'condiments': {'oil': ['hard-boiled egg']}, 'spices': {'dill': ['dill']}}, 'cost': 2.2, 'calories': 243, 'rating': 2, 'dietary_tags': ['vegetarian'], 'review_count': 1, 'reviews': []}, {'_id': 115, 'cuisine': 'italian', 'restaurant': None, 'name': 'Italian Fennel Sandwich', 'ingredients': {'breads': {'ciabatta': ['ciabatta']}, 'meats': {}, 'cheeses': {}, 'vegetables': {'fennel': ['fennel']}, 'condiments': {'salsa': ['salsa verde']}, 'spices': {}}, 'cost': 3.8, 'calories': 285, 'rating': 3, 'dietary_tags': ['vegan'], 'review_count': 1, 'reviews': []}, {'_id': 116, 'cuisine': None, 'restaurant': 'mr_pickles', 'name': 'The Mr. Pickle', 'ingredients': {'breads': {}, 'meats': {'chicken': ['chicken breast'], 'bacon': ['bacon']}, 'cheeses': {'monterey jack': ['monterey jack']}, 'vegetables': {'avocado': ['avocado'], 'tomato': ['tomato'], 'onion': ['onion'], 'pickle': ['pickle'], 'pepper': ['pepperoncini'], 'lettuce': ['lettuce']}, 'condiments': {'mayonnaise': ['mayonnaise'], 'mustard': ['mustard'], 'sauce': ['garlic sauce']}, 'spices': {}}, 'cost': 14.69, 'calories': 740, 'rating': 4, 'dietary_tags': [], 'review_count': 1, 'reviews': []}, {'_id': 117, 'cuisine': None, 'restaurant': 'mr_pickles', 'name': 'G.O.A.T.', 'ingredients': {'breads': {}, 'meats': {'ham': ['hot ham'], 'capicola': ['capicola'], 'salami': ['salami'], 'pepperoni': ['pepperoni']}, 'cheeses': {'provolone': ['provolone']}, 'vegetables': {'tomato': ['tomato'], 'onion': ['onion'], 'pickle': ['pickle'], 'pepper': ['pepperoncini'], 'lettuce': ['lettuce']}, 'condiments': {'vinegar': ['red wine vinegar']}, 'spices': {}}, 'cost': 13.99, 'calories': 625, 'rating': 1, 'dietary_tags': [], 'review_count': 1, 'reviews': []}, {'_id': 118, 'cuisine': None, 'restaurant': 'mr_pickles', 'name': \"Kickin' Chicken\", 'ingredients': {'breads': {}, 'meats': {'chicken': ['chicken breast']}, 'cheeses': {'pepper jack': ['pepper jack']}, 'vegetables': {'tomato': ['tomato'], 'onion': ['onion'], 'pickle': ['pickle'], 'pepper': ['pepperoncini'], 'lettuce': ['lettuce']}, 'condiments': {'sauce': ['baja sauce', 'hot sauce', 'garlic sauce'], 'mayonnaise': ['mayonnaise'], 'mustard': ['mustard']}, 'spices': {}}, 'cost': 14.39, 'calories': 540, 'rating': 2, 'dietary_tags': [], 'review_count': 1, 'reviews': []}, {'_id': 119, 'cuisine': None, 'restaurant': 'mr_pickles', 'name': 'Reuben', 'ingredients': {'breads': {'rye': ['toasted marble rye']}, 'meats': {'pastrami': ['pastrami']}, 'cheeses': {}, 'vegetables': {}, 'condiments': {}, 'spices': {}}, 'cost': 14.69, 'calories': 320, 'rating': 4, 'dietary_tags': [], 'review_count': 1, 'reviews': []}, {'_id': 120, 'cuisine': None, 'restaurant': 'mr_pickles', 'name': 'Mrs. Pickle', 'ingredients': {'breads': {}, 'meats': {'turkey': ['turkey breast'], 'bacon': ['bacon']}, 'cheeses': {'monterey jack': ['monterey jack']}, 'vegetables': {'avocado': ['avocado'], 'tomato': ['tomato'], 'onion': ['onion'], 'pickle': ['pickle'], 'pepper': ['pepperoncini'], 'lettuce': ['lettuce']}, 'condiments': {'mayonnaise': ['mayonnaise'], 'mustard': ['mustard'], 'sauce': ['garlic sauce']}, 'spices': {}}, 'cost': 14.69, 'calories': 720, 'rating': 3, 'dietary_tags': [], 'review_count': 1, 'reviews': []}, {'_id': 121, 'cuisine': None, 'restaurant': 'mr_pickles', 'name': 'Hot \"T\"', 'ingredients': {'breads': {}, 'meats': {'turkey': ['turkey breast']}, 'cheeses': {'pepper jack': ['pepper jack']}, 'vegetables': {'tomato': ['tomato'], 'onion': ['onion'], 'pickle': ['pickle'], 'pepper': ['pepperoncini'], 'lettuce': ['lettuce']}, 'condiments': {'sauce': ['baja sauce', 'cranberry sauce', 'garlic sauce'], 'mayonnaise': ['mayonnaise'], 'mustard': ['mustard']}, 'spices': {}}, 'cost': 14.39, 'calories': 520, 'rating': 2, 'dietary_tags': [], 'review_count': 1, 'reviews': []}, {'_id': 122, 'cuisine': None, 'restaurant': 'mr_pickles', 'name': 'Rachel', 'ingredients': {'breads': {'rye': ['toasted marble rye']}, 'meats': {'turkey': ['turkey breast']}, 'cheeses': {}, 'vegetables': {}, 'condiments': {}, 'spices': {}}, 'cost': 14.69, 'calories': 380, 'rating': 1, 'dietary_tags': [], 'review_count': 1, 'reviews': []}, {'_id': 123, 'cuisine': None, 'restaurant': 'mr_pickles', 'name': \"CJ's Pastrami\", 'ingredients': {'breads': {}, 'meats': {'pastrami': ['pastrami']}, 'cheeses': {}, 'vegetables': {'pickle': ['pickle']}, 'condiments': {'mustard': ['mustard']}, 'spices': {}}, 'cost': 14.69, 'calories': 130, 'rating': 3, 'dietary_tags': [], 'review_count': 1, 'reviews': []}, {'_id': 124, 'cuisine': None, 'restaurant': 'mr_pickles', 'name': 'Hang Loose', 'ingredients': {'breads': {}, 'meats': {'pastrami': ['pastrami'], 'bacon': ['bacon']}, 'cheeses': {'cream cheese': ['cream cheese']}, 'vegetables': {'avocado': ['avocado'], 'tomato': ['tomato'], 'onion': ['onion'], 'pickle': ['pickle'], 'pepper': ['pepperoncini'], 'lettuce': ['lettuce']}, 'condiments': {'mayonnaise': ['mayonnaise'], 'mustard': ['mustard'], 'sauce': ['garlic sauce']}, 'spices': {}}, 'cost': 14.99, 'calories': 620, 'rating': 4, 'dietary_tags': [], 'review_count': 1, 'reviews': []}, {'_id': 125, 'cuisine': None, 'restaurant': 'mr_pickles', 'name': 'BBQ Melt', 'ingredients': {'breads': {}, 'meats': {'chicken': ['chicken breast']}, 'cheeses': {'cheddar': ['cheddar']}, 'vegetables': {'tomato': ['tomato'], 'onion': ['onion'], 'pickle': ['pickle'], 'pepper': ['pepperoncini'], 'lettuce': ['lettuce']}, 'condiments': {'sauce': ['bbq sauce', 'garlic sauce'], 'mayonnaise': ['mayonnaise'], 'mustard': ['mustard']}, 'spices': {}}, 'cost': 14.39, 'calories': 560, 'rating': 5, 'dietary_tags': [], 'review_count': 1, 'reviews': []}, {'_id': 126, 'cuisine': None, 'restaurant': 'mr_pickles', 'name': 'Mama Mia!', 'ingredients': {'breads': {}, 'meats': {'meatball': ['meatball'], 'capicola': ['capicola'], 'pepperoni': ['pepperoni']}, 'cheeses': {'pepper jack': ['pepper jack']}, 'vegetables': {}, 'condiments': {'sauce': ['marinara sauce', 'garlic sauce']}, 'spices': {}}, 'cost': 14.99, 'calories': 460, 'rating': 5, 'dietary_tags': [], 'review_count': 1, 'reviews': []}, {'_id': 127, 'cuisine': None, 'restaurant': 'mr_pickles', 'name': 'Meatball', 'ingredients': {'breads': {}, 'meats': {'meatball': ['meatball']}, 'cheeses': {'provolone': ['provolone']}, 'vegetables': {}, 'condiments': {'sauce': ['marinara sauce', 'garlic sauce']}, 'spices': {}}, 'cost': 14.69, 'calories': 290, 'rating': 4, 'dietary_tags': [], 'review_count': 1, 'reviews': []}, {'_id': 128, 'cuisine': None, 'restaurant': 'mr_pickles', 'name': 'Got Beef', 'ingredients': {'breads': {}, 'meats': {'beef': ['roast beef'], 'pastrami': ['pastrami']}, 'cheeses': {'monterey jack': ['monterey jack']}, 'vegetables': {'tomato': ['tomato'], 'onion': ['onion'], 'pickle': ['pickle'], 'pepper': ['pepperoncini'], 'lettuce': ['lettuce']}, 'condiments': {'mayonnaise': ['mayonnaise'], 'mustard': ['mustard'], 'sauce': ['garlic sauce']}, 'spices': {}}, 'cost': 14.99, 'calories': 710, 'rating': 4, 'dietary_tags': [], 'review_count': 1, 'reviews': []}, {'_id': 129, 'cuisine': None, 'restaurant': 'mr_pickles', 'name': 'French Dip', 'ingredients': {'breads': {}, 'meats': {'beef': ['roast beef']}, 'cheeses': {}, 'vegetables': {}, 'condiments': {'horseradish': ['horseradish mayo'], 'sauce': ['garlic sauce']}, 'spices': {}}, 'cost': 14.99, 'calories': 310, 'rating': 5, 'dietary_tags': [], 'review_count': 1, 'reviews': []}, {'_id': 130, 'cuisine': None, 'restaurant': 'mr_pickles', 'name': 'Baja Cheesesteak', 'ingredients': {'breads': {}, 'meats': {'beef': ['roast beef']}, 'cheeses': {'pepper jack': ['pepper jack']}, 'vegetables': {'pepper': ['red bell pepper', 'pepperoncini'], 'onion': ['onion']}, 'condiments': {'sauce': ['baja sauce']}, 'spices': {}}, 'cost': 14.99, 'calories': 450, 'rating': 5, 'dietary_tags': [], 'review_count': 1, 'reviews': []}, {'_id': 131, 'cuisine': None, 'restaurant': 'mr_pickles', 'name': 'Santa Maria Tri-Tip', 'ingredients': {'breads': {}, 'meats': {}, 'cheeses': {}, 'vegetables': {'tomato': ['tomato'], 'onion': ['onion'], 'pickle': ['pickle'], 'pepper': ['pepperoncini'], 'lettuce': ['lettuce']}, 'condiments': {'mayonnaise': ['mayonnaise'], 'mustard': ['mustard'], 'sauce': ['garlic sauce']}, 'spices': {}}, 'cost': 15.99, 'calories': 250, 'rating': 4, 'dietary_tags': ['vegan'], 'review_count': 1, 'reviews': []}, {'_id': 132, 'cuisine': None, 'restaurant': 'mr_pickles', 'name': 'Goomba', 'ingredients': {'breads': {}, 'meats': {'ham': ['ham'], 'capicola': ['capicola'], 'salami': ['salami'], 'pepperoni': ['pepperoni']}, 'cheeses': {'provolone': ['provolone']}, 'vegetables': {'tomato': ['tomato'], 'onion': ['onion'], 'pickle': ['pickle'], 'pepper': ['pepperoncini'], 'lettuce': ['lettuce']}, 'condiments': {'vinegar': ['red wine vinegar']}, 'spices': {}}, 'cost': 14.39, 'calories': 625, 'rating': 3, 'dietary_tags': [], 'review_count': 1, 'reviews': []}, {'_id': 133, 'cuisine': None, 'restaurant': 'mr_pickles', 'name': 'Listen Linda', 'ingredients': {'breads': {}, 'meats': {'turkey': ['turkey breast'], 'bacon': ['bacon']}, 'cheeses': {}, 'vegetables': {'avocado': ['avocado'], 'tomato': ['tomato'], 'onion': ['onion'], 'pickle': ['pickle'], 'pepper': ['pepperoncini'], 'lettuce': ['lettuce']}, 'condiments': {'mayonnaise': ['mayonnaise'], 'mustard': ['mustard'], 'sauce': ['garlic sauce']}, 'spices': {}}, 'cost': 14.69, 'calories': 630, 'rating': 2, 'dietary_tags': [], 'review_count': 1, 'reviews': []}, {'_id': 134, 'cuisine': None, 'restaurant': 'mr_pickles', 'name': 'Big Jake', 'ingredients': {'breads': {}, 'meats': {'turkey': ['turkey breast']}, 'cheeses': {'cream cheese': ['cream cheese']}, 'vegetables': {'avocado': ['avocado'], 'tomato': ['tomato'], 'onion': ['onion'], 'pickle': ['pickle'], 'pepper': ['pepperoncini'], 'lettuce': ['lettuce']}, 'condiments': {'mayonnaise': ['mayonnaise'], 'mustard': ['mustard'], 'sauce': ['garlic sauce']}, 'spices': {}}, 'cost': 14.69, 'calories': 630, 'rating': 1, 'dietary_tags': [], 'review_count': 1, 'reviews': []}, {'_id': 135, 'cuisine': None, 'restaurant': 'mr_pickles', 'name': 'Italian', 'ingredients': {'breads': {}, 'meats': {'pastrami': ['pastrami'], 'ham': ['ham'], 'salami': ['salami']}, 'cheeses': {'provolone': ['provolone']}, 'vegetables': {'tomato': ['tomato'], 'onion': ['onion'], 'pickle': ['pickle'], 'pepper': ['pepperoncini'], 'lettuce': ['lettuce']}, 'condiments': {'dressing': ['italian dressing'], 'mayonnaise': ['mayonnaise'], 'mustard': ['mustard'], 'sauce': ['garlic sauce']}, 'spices': {}}, 'cost': 14.39, 'calories': 810, 'rating': 2, 'dietary_tags': [], 'review_count': 1, 'reviews': []}, {'_id': 136, 'cuisine': None, 'restaurant': 'mr_pickles', 'name': 'Tom Turkey', 'ingredients': {'breads': {}, 'meats': {'turkey': ['turkey breast'], 'bacon': ['bacon']}, 'cheeses': {}, 'vegetables': {'tomato': ['tomato'], 'onion': ['onion'], 'pickle': ['pickle'], 'pepper': ['pepperoncini'], 'lettuce': ['lettuce']}, 'condiments': {'mayonnaise': ['mayonnaise'], 'mustard': ['mustard'], 'sauce': ['garlic sauce']}, 'spices': {}}, 'cost': 14.39, 'calories': 480, 'rating': 5, 'dietary_tags': [], 'review_count': 1, 'reviews': []}, {'_id': 137, 'cuisine': None, 'restaurant': 'mr_pickles', 'name': \"Della's Deli\", 'ingredients': {'breads': {}, 'meats': {'turkey': ['turkey breast'], 'salami': ['salami'], 'ham': ['ham']}, 'cheeses': {'cheddar': ['cheddar']}, 'vegetables': {'tomato': ['tomato'], 'onion': ['onion'], 'pickle': ['pickle'], 'pepper': ['pepperoncini'], 'lettuce': ['lettuce']}, 'condiments': {'mayonnaise': ['mayonnaise'], 'mustard': ['mustard'], 'sauce': ['garlic sauce']}, 'spices': {}}, 'cost': 14.39, 'calories': 810, 'rating': 2, 'dietary_tags': [], 'review_count': 1, 'reviews': []}, {'_id': 138, 'cuisine': None, 'restaurant': 'mr_pickles', 'name': 'Big Easy', 'ingredients': {'breads': {}, 'meats': {'chicken': ['chicken salad']}, 'cheeses': {}, 'vegetables': {'avocado': ['avocado'], 'tomato': ['tomato'], 'onion': ['onion'], 'pickle': ['pickle'], 'pepper': ['pepperoncini'], 'lettuce': ['lettuce']}, 'condiments': {'mayonnaise': ['mayonnaise'], 'mustard': ['mustard'], 'sauce': ['garlic sauce']}, 'spices': {}}, 'cost': 14.39, 'calories': 600, 'rating': 4, 'dietary_tags': [], 'review_count': 1, 'reviews': []}, {'_id': 139, 'cuisine': None, 'restaurant': 'mr_pickles', 'name': 'Cali Tuna', 'ingredients': {'breads': {}, 'meats': {'tuna': ['albacore tuna salad']}, 'cheeses': {}, 'vegetables': {'avocado': ['avocado'], 'cucumber': ['cucumber'], 'tomato': ['tomato'], 'onion': ['onion'], 'pickle': ['pickle'], 'pepper': ['pepperoncini'], 'lettuce': ['lettuce']}, 'condiments': {'mayonnaise': ['mayonnaise'], 'mustard': ['mustard'], 'sauce': ['garlic sauce']}, 'spices': {}}, 'cost': 15.39, 'calories': 560, 'rating': 3, 'dietary_tags': [], 'review_count': 1, 'reviews': []}, {'_id': 140, 'cuisine': None, 'restaurant': 'mr_pickles', 'name': 'The Hero', 'ingredients': {'breads': {}, 'meats': {'beef': ['roast beef'], 'turkey': ['turkey breast'], 'ham': ['ham']}, 'cheeses': {'cheddar': ['cheddar']}, 'vegetables': {'tomato': ['tomato'], 'onion': ['onion'], 'pickle': ['pickle'], 'pepper': ['pepperoncini'], 'lettuce': ['lettuce']}, 'condiments': {'mayonnaise': ['mayonnaise'], 'mustard': ['mustard'], 'sauce': ['garlic sauce']}, 'spices': {}}, 'cost': 15.99, 'calories': 940, 'rating': 3, 'dietary_tags': [], 'review_count': 1, 'reviews': []}, {'_id': 141, 'cuisine': None, 'restaurant': 'mr_pickles', 'name': 'Veggie Pestoli', 'ingredients': {'breads': {}, 'meats': {}, 'cheeses': {'cheddar': ['cheddar']}, 'vegetables': {'avocado': ['avocado'], 'pepper': ['red bell pepper', 'pepperoncini'], 'cucumber': ['cucumber'], 'tomato': ['tomato'], 'onion': ['onion'], 'pickle': ['pickle'], 'lettuce': ['lettuce']}, 'condiments': {'pesto': ['pesto aioli']}, 'spices': {}}, 'cost': 13.99, 'calories': 445, 'rating': 3, 'dietary_tags': ['vegetarian'], 'review_count': 1, 'reviews': []}, {'_id': 142, 'cuisine': None, 'restaurant': 'mr_pickles', 'name': 'Truly Vegan', 'ingredients': {'breads': {}, 'meats': {}, 'cheeses': {}, 'vegetables': {'pepper': ['roasted red pepper hummu', 'red bell pepper', 'pepperoncini'], 'avocado': ['avocado'], 'cucumber': ['cucumber'], 'tomato': ['tomato'], 'onion': ['onion'], 'pickle': ['pickle'], 'lettuce': ['lettuce']}, 'condiments': {'mustard': ['mustard'], 'sauce': ['garlic sauce']}, 'spices': {}}, 'cost': 13.99, 'calories': 310, 'rating': 1, 'dietary_tags': ['vegan'], 'review_count': 1, 'reviews': []}, {'_id': 143, 'cuisine': None, 'restaurant': 'mr_pickles', 'name': 'Summer Love Wrap', 'ingredients': {'breads': {'wrap': ['wrap']}, 'meats': {'turkey': ['turkey breast']}, 'cheeses': {}, 'vegetables': {'avocado': ['avocado'], 'pepper': ['roasted red pepper hummu', 'pepperoncini'], 'tomato': ['tomato'], 'onion': ['onion'], 'pickle': ['pickle'], 'lettuce': ['lettuce']}, 'condiments': {'sauce': ['baja sauce', 'garlic sauce'], 'mayonnaise': ['mayonnaise'], 'mustard': ['mustard']}, 'spices': {}}, 'cost': 14.39, 'calories': 730, 'rating': 3, 'dietary_tags': [], 'review_count': 1, 'reviews': []}, {'_id': 144, 'cuisine': None, 'restaurant': 'mr_pickles', 'name': 'Club', 'ingredients': {'breads': {}, 'meats': {'turkey': ['turkey breast'], 'ham': ['ham'], 'bacon': ['bacon']}, 'cheeses': {'cheddar': ['cheddar']}, 'vegetables': {'tomato': ['tomato'], 'lettuce': ['lettuce']}, 'condiments': {}, 'spices': {}}, 'cost': 14.69, 'calories': 520, 'rating': 1, 'dietary_tags': [], 'review_count': 1, 'reviews': []}, {'_id': 145, 'cuisine': None, 'restaurant': 'mr_pickles', 'name': 'BLAT', 'ingredients': {'breads': {}, 'meats': {'bacon': ['bacon']}, 'cheeses': {}, 'vegetables': {'lettuce': ['lettuce'], 'avocado': ['avocado'], 'tomato': ['tomato']}, 'condiments': {}, 'spices': {}}, 'cost': 14.39, 'calories': 230, 'rating': 3, 'dietary_tags': [], 'review_count': 1, 'reviews': []}, {'_id': 146, 'cuisine': None, 'restaurant': 'mr_pickles', 'name': 'BLT', 'ingredients': {'breads': {}, 'meats': {'bacon': ['bacon']}, 'cheeses': {}, 'vegetables': {'lettuce': ['lettuce'], 'tomato': ['tomato']}, 'condiments': {}, 'spices': {}}, 'cost': 14.39, 'calories': 80, 'rating': 1, 'dietary_tags': [], 'review_count': 1, 'reviews': []}, {'_id': 147, 'cuisine': None, 'restaurant': 'subway', 'name': 'Elite Chicken & Bacon Ranch', 'ingredients': {'breads': {}, 'meats': {'chicken': ['chicken breast'], 'bacon': ['bacon']}, 'cheeses': {}, 'vegetables': {}, 'condiments': {'dressing': ['ranch dressing']}, 'spices': {}}, 'cost': 15.28, 'calories': 580, 'rating': 3, 'dietary_tags': [], 'review_count': 1, 'reviews': []}, {'_id': 148, 'cuisine': 'American', 'restaurant': 'subway', 'name': 'The Philly', 'ingredients': {'breads': {}, 'meats': {}, 'cheeses': {}, 'vegetables': {}, 'condiments': {}, 'spices': {}}, 'cost': 13.78, 'calories': 505, 'rating': 3, 'dietary_tags': ['vegan'], 'review_count': 1, 'reviews': []}, {'_id': 149, 'cuisine': None, 'restaurant': 'subway', 'name': 'Subway Club', 'ingredients': {'breads': {}, 'meats': {'turkey': ['turkey breast'], 'ham': ['black forest ham'], 'beef': ['roast beef']}, 'cheeses': {}, 'vegetables': {}, 'condiments': {}, 'spices': {}}, 'cost': 14.78, 'calories': 500, 'rating': 1, 'dietary_tags': [], 'review_count': 1, 'reviews': []}, {'_id': 150, 'cuisine': 'American', 'restaurant': 'subway', 'name': 'All-American Club', 'ingredients': {'breads': {}, 'meats': {'turkey': ['turkey breast'], 'ham': ['black forest ham'], 'bacon': ['bacon']}, 'cheeses': {}, 'vegetables': {}, 'condiments': {}, 'spices': {}}, 'cost': 14.28, 'calories': 540, 'rating': 1, 'dietary_tags': [], 'review_count': 1, 'reviews': []}, {'_id': 151, 'cuisine': 'Italian', 'restaurant': 'subway', 'name': 'The Hotshot Italiano', 'ingredients': {'breads': {}, 'meats': {'salami': ['genoa salami'], 'pepperoni': ['pepperoni'], 'ham': ['ham']}, 'cheeses': {}, 'vegetables': {}, 'condiments': {}, 'spices': {}}, 'cost': 12.28, 'calories': 630, 'rating': 2, 'dietary_tags': [], 'review_count': 1, 'reviews': []}, {'_id': 152, 'cuisine': 'Italian', 'restaurant': 'subway', 'name': 'The Ultimate B.M.T.', 'ingredients': {'breads': {}, 'meats': {'ham': ['ham'], 'salami': ['genoa salami'], 'pepperoni': ['pepperoni']}, 'cheeses': {}, 'vegetables': {}, 'condiments': {}, 'spices': {}}, 'cost': 12.78, 'calories': 560, 'rating': 3, 'dietary_tags': [], 'review_count': 1, 'reviews': []}, {'_id': 153, 'cuisine': None, 'restaurant': 'subway', 'name': 'Titan Turkey', 'ingredients': {'breads': {}, 'meats': {'turkey': ['turkey breast']}, 'cheeses': {}, 'vegetables': {}, 'condiments': {}, 'spices': {}}, 'cost': 12.68, 'calories': 490, 'rating': 3, 'dietary_tags': [], 'review_count': 1, 'reviews': []}, {'_id': 154, 'cuisine': None, 'restaurant': 'subway', 'name': 'Home Run Ham', 'ingredients': {'breads': {}, 'meats': {'ham': ['ham']}, 'cheeses': {}, 'vegetables': {}, 'condiments': {}, 'spices': {}}, 'cost': 12.18, 'calories': 510, 'rating': 5, 'dietary_tags': [], 'review_count': 1, 'reviews': []}, {'_id': 155, 'cuisine': 'BBQ', 'restaurant': 'subway', 'name': 'Honey Mustard BBQ Chicken', 'ingredients': {'breads': {}, 'meats': {'chicken': ['chicken breast']}, 'cheeses': {}, 'vegetables': {}, 'condiments': {'mustard': ['honey mustard']}, 'spices': {}}, 'cost': 13.78, 'calories': 510, 'rating': 2, 'dietary_tags': [], 'review_count': 1, 'reviews': []}, {'_id': 156, 'cuisine': None, 'restaurant': 'subway', 'name': 'The Boss', 'ingredients': {'breads': {}, 'meats': {}, 'cheeses': {}, 'vegetables': {}, 'condiments': {}, 'spices': {}}, 'cost': 14.58, 'calories': 690, 'rating': 2, 'dietary_tags': ['vegan'], 'review_count': 1, 'reviews': []}, {'_id': 157, 'cuisine': None, 'restaurant': 'subway', 'name': 'Spicy Nacho Chicken', 'ingredients': {'breads': {}, 'meats': {'chicken': ['chicken breast']}, 'cheeses': {}, 'vegetables': {}, 'condiments': {}, 'spices': {}}, 'cost': 13.78, 'calories': 440, 'rating': 1, 'dietary_tags': [], 'review_count': 1, 'reviews': []}, {'_id': 158, 'cuisine': None, 'restaurant': 'subway', 'name': 'Cheesy Garlic Steak', 'ingredients': {'breads': {}, 'meats': {}, 'cheeses': {}, 'vegetables': {}, 'condiments': {'oil': ['herb garlic oil']}, 'spices': {}}, 'cost': 13.78, 'calories': 510, 'rating': 3, 'dietary_tags': ['vegan'], 'review_count': 1, 'reviews': []}, {'_id': 159, 'cuisine': None, 'restaurant': 'subway', 'name': 'Garlic Roast Beef', 'ingredients': {'breads': {}, 'meats': {'beef': ['roast beef']}, 'cheeses': {}, 'vegetables': {}, 'condiments': {'oil': ['herb garlic oil']}, 'spices': {}}, 'cost': 10.69, 'calories': 490, 'rating': 3, 'dietary_tags': [], 'review_count': 1, 'reviews': []}, {'_id': 160, 'cuisine': None, 'restaurant': 'subway', 'name': 'The Beast', 'ingredients': {'breads': {}, 'meats': {}, 'cheeses': {}, 'vegetables': {}, 'condiments': {}, 'spices': {}}, 'cost': 11.19, 'calories': 740, 'rating': 3, 'dietary_tags': ['vegan'], 'review_count': 1, 'reviews': []}, {'_id': 161, 'cuisine': 'Japanese', 'restaurant': 'subway', 'name': 'Teriyaki Blitz', 'ingredients': {'breads': {}, 'meats': {'chicken': ['chicken teriyaki']}, 'cheeses': {}, 'vegetables': {}, 'condiments': {}, 'spices': {}}, 'cost': 9.49, 'calories': 460, 'rating': 2, 'dietary_tags': [], 'review_count': 1, 'reviews': []}, {'_id': 162, 'cuisine': None, 'restaurant': 'subway', 'name': 'The Outlaw', 'ingredients': {'breads': {}, 'meats': {}, 'cheeses': {}, 'vegetables': {}, 'condiments': {}, 'spices': {}}, 'cost': 9.49, 'calories': 590, 'rating': 3, 'dietary_tags': ['vegan'], 'review_count': 1, 'reviews': []}, {'_id': 163, 'cuisine': None, 'restaurant': 'subway', 'name': 'The Monster', 'ingredients': {'breads': {}, 'meats': {}, 'cheeses': {}, 'vegetables': {}, 'condiments': {}, 'spices': {}}, 'cost': 10.99, 'calories': 590, 'rating': 1, 'dietary_tags': ['vegan'], 'review_count': 1, 'reviews': []}, {'_id': 164, 'cuisine': 'Japanese', 'restaurant': 'subway', 'name': 'Sweet Onion Chicken Teriyaki', 'ingredients': {'breads': {}, 'meats': {'chicken': ['chicken teriyaki']}, 'cheeses': {}, 'vegetables': {}, 'condiments': {'sauce': ['sweet onion sauce']}, 'spices': {}}, 'cost': 6.99, 'calories': 430, 'rating': 5, 'dietary_tags': [], 'review_count': 1, 'reviews': []}, {'_id': 165, 'cuisine': None, 'restaurant': 'subway', 'name': 'Pickleball Club', 'ingredients': {'breads': {}, 'meats': {}, 'cheeses': {}, 'vegetables': {}, 'condiments': {}, 'spices': {}}, 'cost': 6.99, 'calories': 500, 'rating': 5, 'dietary_tags': ['vegan'], 'review_count': 1, 'reviews': []}, {'_id': 166, 'cuisine': None, 'restaurant': 'subway', 'name': 'Black Forest Ham', 'ingredients': {'breads': {}, 'meats': {'ham': ['black forest ham']}, 'cheeses': {}, 'vegetables': {}, 'condiments': {}, 'spices': {}}, 'cost': 5.99, 'calories': 320, 'rating': 4, 'dietary_tags': [], 'review_count': 1, 'reviews': []}, {'_id': 167, 'cuisine': None, 'restaurant': 'subway', 'name': 'B.L.T.', 'ingredients': {'breads': {}, 'meats': {'bacon': ['bacon']}, 'cheeses': {}, 'vegetables': {'lettuce': ['lettuce'], 'tomato': ['tomato']}, 'condiments': {}, 'spices': {}}, 'cost': 5.99, 'calories': 370, 'rating': 5, 'dietary_tags': [], 'review_count': 1, 'reviews': []}, {'_id': 168, 'cuisine': None, 'restaurant': 'subway', 'name': 'Cold Cut Combo', 'ingredients': {'breads': {}, 'meats': {'turkey': ['turkey ham', 'turkey salami', 'turkey bologna']}, 'cheeses': {}, 'vegetables': {}, 'condiments': {}, 'spices': {}}, 'cost': 5.99, 'calories': 370, 'rating': 3, 'dietary_tags': [], 'review_count': 1, 'reviews': []}, {'_id': 169, 'cuisine': None, 'restaurant': 'subway', 'name': 'Grilled Chicken', 'ingredients': {'breads': {}, 'meats': {'chicken': ['chicken breast']}, 'cheeses': {}, 'vegetables': {}, 'condiments': {}, 'spices': {}}, 'cost': 6.99, 'calories': 330, 'rating': 2, 'dietary_tags': [], 'review_count': 1, 'reviews': []}, {'_id': 170, 'cuisine': 'Italian', 'restaurant': 'subway', 'name': 'Meatball Marinara', 'ingredients': {'breads': {}, 'meats': {'meatball': ['italian meatball']}, 'cheeses': {}, 'vegetables': {}, 'condiments': {'sauce': ['marinara sauce']}, 'spices': {}}, 'cost': 6.99, 'calories': 520, 'rating': 5, 'dietary_tags': [], 'review_count': 1, 'reviews': []}, {'_id': 171, 'cuisine': None, 'restaurant': 'subway', 'name': 'Oven-Roasted Turkey', 'ingredients': {'breads': {}, 'meats': {'turkey': ['turkey breast']}, 'cheeses': {}, 'vegetables': {}, 'condiments': {}, 'spices': {}}, 'cost': 5.99, 'calories': 310, 'rating': 4, 'dietary_tags': [], 'review_count': 1, 'reviews': []}, {'_id': 172, 'cuisine': 'Italian', 'restaurant': 'subway', 'name': 'Pizza Sub', 'ingredients': {'breads': {}, 'meats': {'pepperoni': ['pepperoni']}, 'cheeses': {}, 'vegetables': {}, 'condiments': {'sauce': ['marinara sauce']}, 'spices': {}}, 'cost': 4.99, 'calories': 490, 'rating': 2, 'dietary_tags': [], 'review_count': 1, 'reviews': []}, {'_id': 173, 'cuisine': None, 'restaurant': 'subway', 'name': 'Oven-Roasted Turkey & Ham', 'ingredients': {'breads': {}, 'meats': {'turkey': ['turkey breast'], 'ham': ['ham']}, 'cheeses': {}, 'vegetables': {}, 'condiments': {}, 'spices': {}}, 'cost': 5.99, 'calories': 310, 'rating': 1, 'dietary_tags': [], 'review_count': 1, 'reviews': []}, {'_id': 174, 'cuisine': None, 'restaurant': 'subway', 'name': 'Rotisserie-Style Chicken', 'ingredients': {'breads': {}, 'meats': {'chicken': ['chicken breast']}, 'cheeses': {}, 'vegetables': {}, 'condiments': {}, 'spices': {}}, 'cost': 6.99, 'calories': 350, 'rating': 3, 'dietary_tags': [], 'review_count': 1, 'reviews': []}, {'_id': 175, 'cuisine': None, 'restaurant': 'subway', 'name': 'Roast Beef', 'ingredients': {'breads': {}, 'meats': {'beef': ['roast beef']}, 'cheeses': {}, 'vegetables': {}, 'condiments': {}, 'spices': {}}, 'cost': 6.99, 'calories': 350, 'rating': 3, 'dietary_tags': [], 'review_count': 1, 'reviews': []}, {'_id': 176, 'cuisine': None, 'restaurant': 'subway', 'name': 'Steak & Cheese', 'ingredients': {'breads': {}, 'meats': {}, 'cheeses': {}, 'vegetables': {}, 'condiments': {}, 'spices': {}}, 'cost': 6.99, 'calories': 370, 'rating': 1, 'dietary_tags': ['vegan'], 'review_count': 1, 'reviews': []}, {'_id': 177, 'cuisine': None, 'restaurant': 'subway', 'name': 'Tuna', 'ingredients': {'breads': {}, 'meats': {'tuna': ['tuna']}, 'cheeses': {}, 'vegetables': {}, 'condiments': {}, 'spices': {}}, 'cost': 5.99, 'calories': 510, 'rating': 5, 'dietary_tags': [], 'review_count': 1, 'reviews': []}, {'_id': 178, 'cuisine': None, 'restaurant': 'subway', 'name': 'Veggie Delite', 'ingredients': {'breads': {}, 'meats': {}, 'cheeses': {}, 'vegetables': {'lettuce': ['lettuce'], 'tomato': ['tomato'], 'cucumber': ['cucumber'], 'pepper': ['green pepper'], 'onion': ['onion']}, 'condiments': {}, 'spices': {}}, 'cost': 5.99, 'calories': 220, 'rating': 1, 'dietary_tags': ['vegan'], 'review_count': 1, 'reviews': []}, {'_id': 179, 'cuisine': None, 'restaurant': 'urbane_cafe', 'name': 'So Cal', 'ingredients': {'breads': {}, 'meats': {'chicken': ['roasted chicken']}, 'cheeses': {'pepper jack': ['pepper jack cheese']}, 'vegetables': {'avocado': ['avocado'], 'lettuce': ['green leaf lettuce']}, 'condiments': {'salsa': ['tomatillo salsa'], 'aioli': ['chipotle aioli']}, 'spices': {}}, 'cost': 11.5, 'calories': 555, 'rating': 1, 'dietary_tags': [], 'review_count': 1, 'reviews': []}, {'_id': 180, 'cuisine': 'Southwestern', 'restaurant': 'urbane_cafe', 'name': 'Southwest', 'ingredients': {'breads': {}, 'meats': {'chicken': ['marinated southwest chicken']}, 'cheeses': {'pepper jack': ['pepper jack cheese']}, 'vegetables': {'avocado': ['avocado']}, 'condiments': {'salsa': ['corn & black bean salsa'], 'aioli': ['chipotle aioli']}, 'spices': {}}, 'cost': 11.5, 'calories': 545, 'rating': 3, 'dietary_tags': [], 'review_count': 1, 'reviews': []}, {'_id': 181, 'cuisine': 'Vietnamese', 'restaurant': 'urbane_cafe', 'name': 'Uc Banh Mi', 'ingredients': {'breads': {}, 'meats': {'chicken': ['roasted chicken']}, 'cheeses': {}, 'vegetables': {'cucumber': ['cucumber'], 'carrot': ['pickled carrot'], 'radish': ['pickled white radish']}, 'condiments': {'aioli': ['sweet chili aioli']}, 'spices': {}}, 'cost': 11.5, 'calories': 340, 'rating': 1, 'dietary_tags': [], 'review_count': 1, 'reviews': []}, {'_id': 182, 'cuisine': 'Italian', 'restaurant': 'urbane_cafe', 'name': 'Pesto & Sundried Tomato', 'ingredients': {'breads': {}, 'meats': {'chicken': ['roasted chicken']}, 'cheeses': {'mozzarella': ['mozzarella cheese']}, 'vegetables': {'tomato': ['sundried tomatoe']}, 'condiments': {'pesto': ['basil pesto']}, 'spices': {'basil': ['basil pesto']}}, 'cost': 11.5, 'calories': 385, 'rating': 4, 'dietary_tags': [], 'review_count': 1, 'reviews': []}, {'_id': 183, 'cuisine': None, 'restaurant': 'urbane_cafe', 'name': 'Cilantro Torta', 'ingredients': {'breads': {}, 'meats': {'chicken': ['marinated cilantro chicken']}, 'cheeses': {'pepper jack': ['pepper jack cheese']}, 'vegetables': {'avocado': ['avocado'], 'onion': ['pickled onion']}, 'condiments': {'salsa': ['corn & black bean salsa', 'tomatillo salsa'], 'aioli': ['chipotle aioli']}, 'spices': {}}, 'cost': 11.5, 'calories': 585, 'rating': 4, 'dietary_tags': [], 'review_count': 1, 'reviews': []}, {'_id': 184, 'cuisine': 'Barbecue', 'restaurant': 'urbane_cafe', 'name': 'Santa Maria BBQ', 'ingredients': {'breads': {}, 'meats': {'chicken': ['marinated bbq chicken'], 'bacon': ['applewood-smoked bacon']}, 'cheeses': {'cheddar': ['cheddar cheese']}, 'vegetables': {}, 'condiments': {'dressing': ['ranch dressing']}, 'spices': {}}, 'cost': 11.5, 'calories': 440, 'rating': 5, 'dietary_tags': [], 'review_count': 1, 'reviews': []}, {'_id': 185, 'cuisine': None, 'restaurant': 'urbane_cafe', 'name': 'Cranberry Brie', 'ingredients': {'breads': {}, 'meats': {'turkey': ['roasted turkey']}, 'cheeses': {'brie': ['french brie']}, 'vegetables': {}, 'condiments': {'chutney': ['cranberry chutney'], 'aioli': ['herb aioli']}, 'spices': {}}, 'cost': 11.5, 'calories': 415, 'rating': 4, 'dietary_tags': [], 'review_count': 1, 'reviews': []}, {'_id': 186, 'cuisine': None, 'restaurant': 'urbane_cafe', 'name': 'Club', 'ingredients': {'breads': {}, 'meats': {'turkey': ['roasted turkey'], 'bacon': ['applewood-smoked bacon']}, 'cheeses': {'cheddar': ['cheddar cheese']}, 'vegetables': {'avocado': ['avocado'], 'tomato': ['tomato'], 'lettuce': ['green leaf lettuce']}, 'condiments': {'aioli': ['herb aioli']}, 'spices': {}}, 'cost': 11.5, 'calories': 610, 'rating': 5, 'dietary_tags': [], 'review_count': 1, 'reviews': []}, {'_id': 187, 'cuisine': None, 'restaurant': 'urbane_cafe', 'name': 'The Californian', 'ingredients': {'breads': {}, 'meats': {}, 'cheeses': {'mozzarella': ['mozzarella cheese']}, 'vegetables': {'artichoke': ['house marinated artichoke heart'], 'avocado': ['avocado'], 'tomato': ['sundried tomatoe'], 'lettuce': ['green leaf lettuce']}, 'condiments': {'aioli': ['herb aioli']}, 'spices': {}}, 'cost': 11.5, 'calories': 410, 'rating': 5, 'dietary_tags': ['vegetarian'], 'review_count': 1, 'reviews': []}, {'_id': 188, 'cuisine': None, 'restaurant': 'urbane_cafe', 'name': 'Bella Portobello', 'ingredients': {'breads': {}, 'meats': {}, 'cheeses': {'mozzarella': ['mozzarella cheese']}, 'vegetables': {'tomato': ['sundried tomatoe']}, 'condiments': {'pesto': ['basil pesto'], 'dressing': ['mixed greens with balsamic dressing']}, 'spices': {'basil': ['basil pesto']}}, 'cost': 11.5, 'calories': 265, 'rating': 1, 'dietary_tags': ['vegetarian'], 'review_count': 1, 'reviews': []}, {'_id': 189, 'cuisine': 'American', 'restaurant': 'urbane_cafe', 'name': 'Gourmet Grilled Cheese', 'ingredients': {'breads': {}, 'meats': {}, 'cheeses': {'cheddar': ['cheddar'], 'gorgonzola': ['gorgonzola'], 'pepper jack': ['pepper jack cheese']}, 'vegetables': {'avocado': ['avocado']}, 'condiments': {'salsa': ['tomatillo salsa']}, 'spices': {}}, 'cost': 9.75, 'calories': 465, 'rating': 5, 'dietary_tags': ['vegetarian'], 'review_count': 1, 'reviews': []}, {'_id': 190, 'cuisine': 'Vietnamese', 'restaurant': 'urbane_cafe', 'name': 'Tofu Banh Mi', 'ingredients': {'breads': {}, 'meats': {}, 'cheeses': {'feta': ['fyh feta (v)']}, 'vegetables': {'cucumber': ['cucumber'], 'carrot': ['pickled carrot'], 'radish': ['pickled white radish']}, 'condiments': {'aioli': ['sweet chili aioli']}, 'spices': {}}, 'cost': 11.5, 'calories': 210, 'rating': 5, 'dietary_tags': ['vegetarian'], 'review_count': 1, 'reviews': []}, {'_id': 191, 'cuisine': None, 'restaurant': 'urbane_cafe', 'name': 'BBQ Tri Tip', 'ingredients': {'breads': {}, 'meats': {}, 'cheeses': {'pepper jack': ['pepper jack cheese']}, 'vegetables': {}, 'condiments': {'aioli': ['chipotle aioli']}, 'spices': {}}, 'cost': 12.95, 'calories': 180, 'rating': 3, 'dietary_tags': ['vegetarian'], 'review_count': 1, 'reviews': []}, {'_id': 192, 'cuisine': 'Argentinian', 'restaurant': 'urbane_cafe', 'name': 'Chimichurri Steak', 'ingredients': {'breads': {}, 'meats': {}, 'cheeses': {'feta': ['feta']}, 'vegetables': {}, 'condiments': {'sauce': ['housemade chimichurri sauce'], 'aioli': ['cranberry chutney aioli']}, 'spices': {}}, 'cost': 12.95, 'calories': 210, 'rating': 3, 'dietary_tags': ['vegetarian'], 'review_count': 1, 'reviews': []}, {'_id': 193, 'cuisine': None, 'restaurant': 'urbane_cafe', 'name': 'Pastrami Tri Tip', 'ingredients': {'breads': {}, 'meats': {'pastrami': ['pastrami tri tip']}, 'cheeses': {'swiss': ['swiss cheese']}, 'vegetables': {}, 'condiments': {'aioli': ['remoulade aioli'], 'butter': ['bread and butter pickle']}, 'spices': {}}, 'cost': 12.95, 'calories': 410, 'rating': 3, 'dietary_tags': [], 'review_count': 1, 'reviews': []}, {'_id': 194, 'cuisine': None, 'restaurant': 'urbane_cafe', 'name': 'BLAT', 'ingredients': {'breads': {}, 'meats': {'bacon': ['bacon']}, 'cheeses': {}, 'vegetables': {'lettuce': ['lettuce'], 'avocado': ['avocado'], 'tomato': ['tomato']}, 'condiments': {}, 'spices': {}}, 'cost': 14.69, 'calories': 230, 'rating': 2, 'dietary_tags': [], 'review_count': 1, 'reviews': []}, {'_id': 195, 'cuisine': 'American', 'restaurant': 'urbane_cafe', 'name': 'BLT', 'ingredients': {'breads': {}, 'meats': {'bacon': ['bacon']}, 'cheeses': {}, 'vegetables': {'lettuce': ['lettuce'], 'tomato': ['tomato']}, 'condiments': {}, 'spices': {}}, 'cost': 14.39, 'calories': 230, 'rating': 4, 'dietary_tags': [], 'review_count': 1, 'reviews': []}]\n",
            "[{'_id': 'default', 'breads': {'baguette': {'cost': 1.5, 'calories': 250}, 'ciabatta': {'cost': 1.8, 'calories': 250}, 'pita': {'cost': 1.0, 'calories': 200}, 'naan': {'cost': 1.2, 'calories': 300}, 'tortilla': {'cost': 0.8, 'calories': 150}, 'roll': {'cost': 0.5, 'calories': 120}, 'sourdough': {'cost': 2.0, 'calories': 220}, 'rye': {'cost': 1.5, 'calories': 200}, 'multigrain': {'cost': 1.5, 'calories': 220}, 'whole wheat': {'cost': 1.0, 'calories': 180}, 'white bread': {'cost': 1.0, 'calories': 160}, 'brioche': {'cost': 2.5, 'calories': 300}, 'focaccia': {'cost': 2.0, 'calories': 250}, 'panini': {'cost': 2.0, 'calories': 200}, 'english muffin': {'cost': 0.8, 'calories': 150}, 'bagel': {'cost': 1.0, 'calories': 250}, 'croissant': {'cost': 1.5, 'calories': 280}, 'milk bread': {'cost': 1.8, 'calories': 220}, 'flatbread': {'cost': 1.0, 'calories': 180}, 'pumpernickel': {'cost': 1.8, 'calories': 190}, 'pretzel roll': {'cost': 1.5, 'calories': 200}, 'potato bread': {'cost': 1.0, 'calories': 180}, 'bolillo': {'cost': 0.6, 'calories': 150}, 'torta': {'cost': 0.8, 'calories': 180}, 'lavash': {'cost': 1.0, 'calories': 160}, 'cornbread': {'cost': 1.5, 'calories': 180}, 'chapati': {'cost': 0.5, 'calories': 120}, 'paratha': {'cost': 0.8, 'calories': 150}, 'wrap': {'cost': 1.0, 'calories': 150}, 'bun': {'cost': 0.5, 'calories': 120}, 'steamed bun': {'cost': 0.8, 'calories': 140}}, 'meats': {'beef': {'cost': 3.0, 'calories': 250}, 'chicken': {'cost': 2.0, 'calories': 200}, 'turkey': {'cost': 2.5, 'calories': 180}, 'pork': {'cost': 2.5, 'calories': 220}, 'ham': {'cost': 2.0, 'calories': 150}, 'bacon': {'cost': 1.0, 'calories': 50}, 'sausage': {'cost': 1.5, 'calories': 180}, 'bratwurst': {'cost': 2.0, 'calories': 250}, 'salami': {'cost': 2.0, 'calories': 120}, 'prosciutto': {'cost': 2.5, 'calories': 70}, 'pepperoni': {'cost': 1.5, 'calories': 80}, 'pastrami': {'cost': 2.0, 'calories': 120}, 'mortadella': {'cost': 2.0, 'calories': 100}, 'lamb': {'cost': 3.5, 'calories': 250}, 'duck': {'cost': 4.0, 'calories': 350}, 'roast beef': {'cost': 3.0, 'calories': 250}, 'veal': {'cost': 3.5, 'calories': 200}, 'venison': {'cost': 4.0, 'calories': 220}, 'chorizo': {'cost': 2.0, 'calories': 100}, 'capicola': {'cost': 2.5, 'calories': 90}, 'bresaola': {'cost': 3.0, 'calories': 70}, 'pancetta': {'cost': 2.5, 'calories': 80}, 'smoked fish': {'cost': 4.0, 'calories': 100}, 'tuna': {'cost': 2.0, 'calories': 150}, 'shrimp': {'cost': 3.0, 'calories': 100}, 'crab': {'cost': 3.5, 'calories': 70}, 'lobster': {'cost': 5.0, 'calories': 100}, 'meatballs': {'cost': 2.0, 'calories': 150}, 'pulled pork': {'cost': 2.5, 'calories': 200}, 'carnitas': {'cost': 2.5, 'calories': 200}, 'corned beef': {'cost': 3.0, 'calories': 200}, 'brisket': {'cost': 3.5, 'calories': 250}, 'gyro': {'cost': 2.5, 'calories': 220}, 'char siu': {'cost': 3.0, 'calories': 240}, 'shawarma': {'cost': 2.5, 'calories': 220}, 'jerky': {'cost': 1.5, 'calories': 70}}, 'cheeses': {'cheddar': {'cost': 1.0, 'calories': 110}, 'mozzarella': {'cost': 1.0, 'calories': 80}, 'swiss': {'cost': 1.2, 'calories': 100}, 'provolone': {'cost': 1.0, 'calories': 90}, 'brie': {'cost': 1.5, 'calories': 95}, 'gorgonzola': {'cost': 1.5, 'calories': 100}, 'feta': {'cost': 1.2, 'calories': 70}, 'parmesan': {'cost': 1.5, 'calories': 110}, 'gouda': {'cost': 1.3, 'calories': 100}, 'ricotta': {'cost': 1.0, 'calories': 60}, 'blue cheese': {'cost': 1.5, 'calories': 100}, 'goat cheese': {'cost': 1.5, 'calories': 80}, 'monterey jack': {'cost': 1.0, 'calories': 90}, 'cream cheese': {'cost': 0.8, 'calories': 50}, 'american cheese': {'cost': 0.7, 'calories': 90}, 'colby': {'cost': 1.0, 'calories': 95}, 'pepper jack': {'cost': 1.0, 'calories': 90}, 'gruyere': {'cost': 1.5, 'calories': 110}, 'camembert': {'cost': 1.5, 'calories': 95}, 'asiago': {'cost': 1.2, 'calories': 110}, 'romano': {'cost': 1.3, 'calories': 110}, 'havarti': {'cost': 1.2, 'calories': 100}, 'burrata': {'cost': 1.5, 'calories': 80}, 'stracciatella': {'cost': 1.5, 'calories': 90}, 'queso fresco': {'cost': 1.0, 'calories': 60}, 'cotija': {'cost': 1.0, 'calories': 80}, 'paneer': {'cost': 1.0, 'calories': 100}, 'halloumi': {'cost': 1.5, 'calories': 110}}, 'vegetables': {'lettuce': {'cost': 0.5, 'calories': 10}, 'tomato': {'cost': 0.6, 'calories': 20}, 'onion': {'cost': 0.4, 'calories': 40}, 'pepper': {'cost': 0.7, 'calories': 20}, 'spinach': {'cost': 0.5, 'calories': 15}, 'cucumber': {'cost': 0.4, 'calories': 10}, 'basil': {'cost': 1.0, 'calories': 5}, 'sprouts': {'cost': 1.2, 'calories': 15}, 'avocado': {'cost': 1.5, 'calories': 150}, 'kale': {'cost': 1.0, 'calories': 50}, 'zucchini': {'cost': 0.7, 'calories': 20}, 'carrot': {'cost': 0.3, 'calories': 30}, 'radish': {'cost': 0.4, 'calories': 10}, 'celery': {'cost': 0.3, 'calories': 5}, 'mushrooms': {'cost': 0.8, 'calories': 20}, 'pickle': {'cost': 0.5, 'calories': 5}, 'scallion': {'cost': 0.5, 'calories': 5}, 'watercress': {'cost': 1.0, 'calories': 5}, 'eggplant': {'cost': 1.0, 'calories': 20}, 'beet': {'cost': 0.7, 'calories': 40}, 'fennel': {'cost': 1.2, 'calories': 20}, 'artichoke': {'cost': 1.5, 'calories': 60}, 'garlic': {'cost': 0.5, 'calories': 5}, 'olive': {'cost': 1.5, 'calories': 50}, 'sun-dried tomato': {'cost': 1.5, 'calories': 100}, 'kimchi': {'cost': 1.2, 'calories': 20}, 'cabbage': {'cost': 0.6, 'calories': 25}, 'greens': {'cost': 0.5, 'calories': 15}, 'herbs': {'cost': 1.0, 'calories': 5}}, 'condiments': {'mayonnaise': {'cost': 1.0, 'calories': 100}, 'mustard': {'cost': 0.5, 'calories': 5}, 'oil': {'cost': 0.8, 'calories': 120}, 'butter': {'cost': 0.5, 'calories': 100}, 'ketchup': {'cost': 0.6, 'calories': 20}, 'relish': {'cost': 0.5, 'calories': 10}, 'vinegar': {'cost': 0.3, 'calories': 0}, 'dressing': {'cost': 1.0, 'calories': 80}, 'salsa': {'cost': 0.8, 'calories': 15}, 'sauce': {'cost': 0.5, 'calories': 50}, 'pesto': {'cost': 1.5, 'calories': 80}, 'chimichurri': {'cost': 1.2, 'calories': 60}, 'aioli': {'cost': 1.0, 'calories': 90}, 'tahini': {'cost': 1.2, 'calories': 100}, 'honey': {'cost': 0.7, 'calories': 60}, 'horseradish': {'cost': 0.8, 'calories': 10}, 'hummus': {'cost': 1.0, 'calories': 60}, 'guacamole': {'cost': 1.5, 'calories': 50}, 'tartar sauce': {'cost': 1.0, 'calories': 80}, 'yogurt sauce': {'cost': 1.0, 'calories': 50}, 'dijon': {'cost': 0.6, 'calories': 5}, 'marinara': {'cost': 0.8, 'calories': 40}, 'glaze': {'cost': 1.2, 'calories': 60}, 'chutney': {'cost': 1.0, 'calories': 50}}, 'spices': {'salt': {'cost': 0.1, 'calories': 0}, 'black pepper': {'cost': 0.5, 'calories': 5}, 'cumin': {'cost': 0.5, 'calories': 10}, 'paprika': {'cost': 0.5, 'calories': 10}, 'coriander': {'cost': 0.5, 'calories': 10}, 'oregano': {'cost': 0.4, 'calories': 5}, 'basil': {'cost': 0.5, 'calories': 5}, 'thyme': {'cost': 0.5, 'calories': 5}, 'rosemary': {'cost': 0.5, 'calories': 5}, 'cayenne pepper': {'cost': 0.5, 'calories': 5}, 'turmeric': {'cost': 0.6, 'calories': 5}, 'parsley': {'cost': 0.5, 'calories': 5}, 'dill': {'cost': 0.5, 'calories': 5}, 'cinnamon': {'cost': 0.6, 'calories': 10}, 'nutmeg': {'cost': 0.5, 'calories': 10}, 'allspice': {'cost': 0.6, 'calories': 10}, 'cloves': {'cost': 0.6, 'calories': 10}, 'cardamom': {'cost': 0.8, 'calories': 10}, 'bay leaf': {'cost': 0.4, 'calories': 0}, 'saffron': {'cost': 1.5, 'calories': 5}, 'sage': {'cost': 0.5, 'calories': 5}, 'mustard seed': {'cost': 0.5, 'calories': 10}, 'fenugreek': {'cost': 0.6, 'calories': 10}, 'anise': {'cost': 0.5, 'calories': 5}, 'five-spice': {'cost': 0.6, 'calories': 5}, 'powder': {'cost': 0.5, 'calories': 5}, 'seasoning': {'cost': 0.6, 'calories': 5}, \"za'atar\": {'cost': 0.6, 'calories': 5}, 'sumac': {'cost': 0.6, 'calories': 5}}}, {'_id': 'mr_pickles', 'breads': {'dutch crunch': {'cost': 0.0, 'calories': None}, 'sourdough': {'cost': 0.0, 'calories': None}, 'wheat': {'cost': 0.0, 'calories': None}, 'french': {'cost': 0.0, 'calories': None}, 'marble rye': {'cost': 0.0, 'calories': None}, 'gluten free wrap': {'cost': 0.99, 'calories': None}, 'multi-grain wheat': {'cost': 0.0, 'calories': None}, 'spinach wrap': {'cost': 0.0, 'calories': None}}, 'meats': {'turkey breast': {'cost': 13.99, 'calories': None}, 'ham': {'cost': 13.99, 'calories': None}, 'chicken salad': {'cost': 13.99, 'calories': None}, 'marinated chicken': {'cost': 14.39, 'calories': None}, 'salami': {'cost': 13.99, 'calories': None}, 'roast beef': {'cost': 14.99, 'calories': None}, 'tuna salad': {'cost': 14.99, 'calories': None}, 'pastrami': {'cost': 14.69, 'calories': None}, 'bacon': {'cost': 13.99, 'calories': None}, 'veggie patty': {'cost': 11.99, 'calories': None}}, 'vegetables': {'red peppers': {'cost': 0.0, 'calories': None}, 'cucumber': {'cost': 0.0, 'calories': None}, 'jalapenos': {'cost': 0.69, 'calories': None}, 'sauerkraut': {'cost': 0.99, 'calories': None}, 'tomato': {'cost': 0.0, 'calories': None}, 'onions': {'cost': 0.0, 'calories': None}, 'pickles': {'cost': 0.0, 'calories': None}, 'pepperoncinis': {'cost': 0.0, 'calories': None}, 'lettuce': {'cost': 0.0, 'calories': None}, 'avocado': {'cost': 1.79, 'calories': None}}, 'cheeses': {'swiss': {'cost': 0.0, 'calories': None}, 'cheddar cheese': {'cost': 0.0, 'calories': None}, 'monterey jack': {'cost': 0.0, 'calories': None}, 'provolone': {'cost': 0.0, 'calories': None}, 'pepper jack': {'cost': 0.0, 'calories': None}, 'american': {'cost': 0.0, 'calories': None}, 'cream cheese': {'cost': 0.0, 'calories': None}}, 'condiments': {'mayonnaise': {'cost': 0.0, 'calories': None}, 'mustard': {'cost': 0.0, 'calories': None}, 'garlic sauce': {'cost': 0.0, 'calories': None}, 'cranberry sauce': {'cost': 1.29, 'calories': None}, 'hummus roasted red pepper': {'cost': 1.49, 'calories': None}, 'sauces': {'cost': 0.0, 'calories': None}}, 'spices': {'salt': {'cost': 0.0, 'calories': None}, 'pepper': {'cost': 0.0, 'calories': None}}}, {'_id': 'subway', 'breads': {'white': {'cost': 4.0, 'calories': '195'}, '9-grain wheat': {'cost': 4.0, 'calories': '195'}, 'honey oat': {'cost': 4.0, 'calories': '210'}, 'parmesan oregano': {'cost': 4.0, 'calories': '206'}, 'flatbread, artisan': {'cost': 4.0, 'calories': None}, 'gluten-free bread': {'cost': 4.0, 'calories': None}, 'hearty italian bread': {'cost': 4.0, 'calories': None}, 'italian herbs & cheese bread': {'cost': 4.0, 'calories': None}, 'monterey cheddar bread': {'cost': 4.0, 'calories': None}, 'roasted garlic bread': {'cost': 4.0, 'calories': None}, 'slider roll': {'cost': 4.0, 'calories': None}, 'sourdough': {'cost': 4.0, 'calories': None}, 'ultimate cheesy garlic bread': {'cost': 4.0, 'calories': None}, 'tomato basil wrap': {'cost': 4.0, 'calories': None}, 'spinach wrap': {'cost': 4.0, 'calories': '196'}}, 'meats': {'black forest ham': {'cost': 3.75, 'calories': None}, 'honey-smoked ham': {'cost': 3.75, 'calories': None}, 'steak': {'cost': 3.75, 'calories': None}, 'turkey breast': {'cost': 3.75, 'calories': None}, 'chicken breast': {'cost': 3.75, 'calories': '50'}, 'chicken teriyaki': {'cost': 3.75, 'calories': '112'}, 'chicken strips': {'cost': 3.75, 'calories': '74'}, 'oven roasted chicken breast': {'cost': 3.75, 'calories': '81'}, 'ham': {'cost': 3.75, 'calories': '67'}, 'bacon': {'cost': 3.75, 'calories': '48'}, 'italian meatballs': {'cost': 3.75, 'calories': '133'}, 'roast beef': {'cost': 3.75, 'calories': '96'}, 'taco beef': {'cost': 3.75, 'calories': '70'}, 'genoa salami': {'cost': 3.75, 'calories': '72'}, 'turkey bologna': {'cost': 3.75, 'calories': None}, 'turkey ham': {'cost': 3.75, 'calories': None}, 'turkey salami': {'cost': 3.75, 'calories': None}, 'pepperoni': {'cost': 3.75, 'calories': '54'}, 'subway melttm': {'cost': 3.75, 'calories': '71'}, 'tuna': {'cost': 3.75, 'calories': '257'}, 'shrimp': {'cost': 3.75, 'calories': '22'}, 'egg mayo': {'cost': 3.75, 'calories': '171'}, 'egg patty': {'cost': 3.75, 'calories': '41'}, 'egg white patty': {'cost': 3.75, 'calories': None}, 'veggie patty': {'cost': 3.75, 'calories': None}, 'falafel': {'cost': 3.75, 'calories': '175'}}, 'vegetables': {'avocado': {'cost': 0.0, 'calories': '75'}, 'lettuce': {'cost': 0.0, 'calories': '3'}, 'tomato': {'cost': 0.0, 'calories': '6'}, 'cucumber': {'cost': 0.0, 'calories': '2'}, 'onion': {'cost': 0.0, 'calories': '3'}, 'green pepper': {'cost': 0.0, 'calories': '1'}, 'spinach': {'cost': 0.0, 'calories': None}, 'banulla pepper': {'cost': 0.0, 'calories': None}, 'sweet corn': {'cost': 0.0, 'calories': None}, 'pickle': {'cost': 0.0, 'calories': '1'}, 'black olive': {'cost': 0.0, 'calories': '4'}, 'jalapeno': {'cost': 0.0, 'calories': '2'}}, 'cheeses': {'smoked cheddar': {'cost': 3.75, 'calories': None}, 'monterey jack': {'cost': 3.75, 'calories': None}, 'mozzarella': {'cost': 3.75, 'calories': None}, 'provolone': {'cost': 3.75, 'calories': None}, 'swiss': {'cost': 3.75, 'calories': None}, 'american': {'cost': 3.75, 'calories': '40'}, 'parmesan': {'cost': 3.75, 'calories': '54'}}, 'condiments': {'caesar dressing': {'cost': 0.0, 'calories': None}, 'ranch dressing': {'cost': 0.0, 'calories': None}, 'buffalo sauce': {'cost': 0.0, 'calories': None}, 'vinaigrette dressing': {'cost': 0.0, 'calories': None}, 'chipotle southwest sauce': {'cost': 0.0, 'calories': '66'}, 'yellow mustard': {'cost': 0.0, 'calories': '9'}, 'marinara': {'cost': 0.0, 'calories': '10'}, 'sweet onion sauce': {'cost': 0.0, 'calories': '33'}, 'honey mustard': {'cost': 0.0, 'calories': '21'}, 'mayonnaise': {'cost': 0.0, 'calories': '100'}, 'olive oil': {'cost': 0.0, 'calories': '44'}, 'herb garlic oil': {'cost': 0.0, 'calories': None}, 'red wine vinegar': {'cost': 0.0, 'calories': '0 .3'}, 'italian dressing': {'cost': 0.0, 'calories': '62'}, 'thousand island dressing': {'cost': 0.0, 'calories': '62'}, 'guacamole': {'cost': 0.0, 'calories': None}, 'brown mustard': {'cost': 0.0, 'calories': None}}, 'spices': {'salt': {'cost': 0.0, 'calories': None}, 'pepper': {'cost': 0.0, 'calories': None}, 'sub spice': {'cost': 0.0, 'calories': None}}}]\n"
          ]
        }
      ]
    },
    {
      "cell_type": "markdown",
      "source": [
        "# Helper Functions"
      ],
      "metadata": {
        "id": "BPyOAy242yFa"
      }
    },
    {
      "cell_type": "code",
      "source": [
        "# check if the ingredients are the same between 2 sandwiches\n",
        "def check_subset(dict1, dict2):\n",
        "  # if they're equal, regardless of type,\n",
        "  #   they must be equal and thus each is a subset of the other\n",
        "  if dict1 == dict2:\n",
        "    return True\n",
        "\n",
        "  for subdict1_key, subdict1 in dict1.items():\n",
        "    # if there's an entry in dict1 not in dict2, it can't be a subset\n",
        "    if subdict1_key not in dict2.keys():\n",
        "      return False\n",
        "\n",
        "    else:\n",
        "      # if the entry in dict1 is NOT a subset of the respective entry in dict2\n",
        "      if not check_subset(subdict1, dict2[subdict1_key]):\n",
        "        return False\n",
        "\n",
        "  # if all the entries in dict1 were indeed subsets of dict2 entries\n",
        "  return True"
      ],
      "metadata": {
        "id": "IATJza8u2z7v"
      },
      "execution_count": 39,
      "outputs": []
    },
    {
      "cell_type": "code",
      "source": [
        "# check if all the ingredients in a sandwich are available at a given restaurant\n",
        "def available_at_restaurant(sandwich_ingredients, restaurant_ingredients):\n",
        "  for category_name, category in sandwich_ingredients.items():\n",
        "\n",
        "    available_ingredients = restaurant_ingredients[category_name]\n",
        "    for ingredient_name, ingredient in category.items():\n",
        "\n",
        "      # if the broader ingredient isn't available\n",
        "      if ingredient_name not in available_ingredients:\n",
        "        return False\n",
        "\n",
        "      # if there's an ingredient subtype\n",
        "      if type(ingredient) == dict:\n",
        "        for subingredient_name, subingredient in ingredient.items():\n",
        "          if subingredient_name not in available_ingredients:\n",
        "            return False\n",
        "\n",
        "  return True"
      ],
      "metadata": {
        "id": "KOhDnjgc3Qk2"
      },
      "execution_count": 40,
      "outputs": []
    },
    {
      "cell_type": "code",
      "source": [
        "# estimate the sandwich's associated cost or calorie count at a restaurant\n",
        "def get_estimate(sandwich_ingredients, restaurant_ingredients, estimate_type=\"cost\"):\n",
        "  estimate = 0\n",
        "  for category in sandwich_ingredients:\n",
        "    for ingredient in sandwich_ingredients[category]:\n",
        "      if ingredient in restaurant_ingredients[category]:\n",
        "        try:\n",
        "          estimate += restaurant_ingredients[category][ingredient][estimate_type]\n",
        "        except Exception as e:\n",
        "          print(f\"Error getting {estimate_type} estimate: {e}\")\n",
        "\n",
        "  return estimate"
      ],
      "metadata": {
        "id": "pt0LzeCF49TF"
      },
      "execution_count": 41,
      "outputs": []
    },
    {
      "cell_type": "markdown",
      "source": [
        "# Modify the Tables"
      ],
      "metadata": {
        "id": "Jmu7PVgTmvSK"
      }
    },
    {
      "cell_type": "markdown",
      "source": [
        "Change restaurant name to restaurant list field\n",
        "- Check sando availability against ingredient lists\n",
        "\n",
        "Change cost to cost list field\n",
        "- 1 cost per restaurant\n",
        "- Default cost estimate if no restaurant\n",
        "\n",
        "Reviews list field: Points to review objects"
      ],
      "metadata": {
        "id": "y8Og5mwLn_CP"
      }
    },
    {
      "cell_type": "markdown",
      "source": [
        "## Yes I know this might have been faster with pandas"
      ],
      "metadata": {
        "id": "72wu8zMVLNTc"
      }
    },
    {
      "cell_type": "markdown",
      "source": [
        "Type conversion for sandwiches with null values"
      ],
      "metadata": {
        "id": "DyDPiJlcOxWy"
      }
    },
    {
      "cell_type": "code",
      "source": [
        "# make sure the types are correct\n",
        "for sandwich in old_sandwiches_table:\n",
        "  sandwich[\"cost\"] = float(sandwich[\"cost\"])\n",
        "  sandwich[\"calories\"] = int(sandwich[\"calories\"])\n",
        "\n",
        "  # handle cases of the value being \"null\"\n",
        "  if sandwich[\"cost\"] is None:\n",
        "    sandwich[\"cost\"] = 0\n",
        "  if sandwich[\"calories\"] is None:\n",
        "    sandwich[\"calories\"] = 0"
      ],
      "metadata": {
        "id": "g-wmUQ4F6rIS"
      },
      "execution_count": 42,
      "outputs": []
    },
    {
      "cell_type": "markdown",
      "source": [
        "Type conversion for ingredients with null (or otherwise bad) values"
      ],
      "metadata": {
        "id": "89tVOVzmO2gS"
      }
    },
    {
      "cell_type": "code",
      "source": [
        "for restaurant in ingredients_table:\n",
        "  print(restaurant)\n",
        "  for category_name, category in restaurant.items():\n",
        "    print(category_name)\n",
        "    if category_name != \"_id\":\n",
        "      for ingredient_name, ingredient in category.items():\n",
        "        # print(ingredient_name)\n",
        "        cost = ingredient[\"cost\"]\n",
        "        calories = ingredient[\"calories\"]\n",
        "\n",
        "        # handle cases of the value being \"null\"\n",
        "        try:\n",
        "          cost = float(cost)\n",
        "        except Exception as e:\n",
        "          cost = 0\n",
        "\n",
        "        try:\n",
        "          calories = int(calories)\n",
        "        except Exception as e:\n",
        "          calories = 0\n",
        "\n",
        "        restaurant[category_name][ingredient_name][\"cost\"] = cost\n",
        "        restaurant[category_name][ingredient_name][\"calories\"] = calories"
      ],
      "metadata": {
        "colab": {
          "base_uri": "https://localhost:8080/"
        },
        "id": "Hu3kPGVWK-mt",
        "outputId": "54d71cdb-dd02-422a-f08c-10e2d31d36e0"
      },
      "execution_count": 43,
      "outputs": [
        {
          "output_type": "stream",
          "name": "stdout",
          "text": [
            "{'_id': 'default', 'breads': {'baguette': {'cost': 1.5, 'calories': 250}, 'ciabatta': {'cost': 1.8, 'calories': 250}, 'pita': {'cost': 1.0, 'calories': 200}, 'naan': {'cost': 1.2, 'calories': 300}, 'tortilla': {'cost': 0.8, 'calories': 150}, 'roll': {'cost': 0.5, 'calories': 120}, 'sourdough': {'cost': 2.0, 'calories': 220}, 'rye': {'cost': 1.5, 'calories': 200}, 'multigrain': {'cost': 1.5, 'calories': 220}, 'whole wheat': {'cost': 1.0, 'calories': 180}, 'white bread': {'cost': 1.0, 'calories': 160}, 'brioche': {'cost': 2.5, 'calories': 300}, 'focaccia': {'cost': 2.0, 'calories': 250}, 'panini': {'cost': 2.0, 'calories': 200}, 'english muffin': {'cost': 0.8, 'calories': 150}, 'bagel': {'cost': 1.0, 'calories': 250}, 'croissant': {'cost': 1.5, 'calories': 280}, 'milk bread': {'cost': 1.8, 'calories': 220}, 'flatbread': {'cost': 1.0, 'calories': 180}, 'pumpernickel': {'cost': 1.8, 'calories': 190}, 'pretzel roll': {'cost': 1.5, 'calories': 200}, 'potato bread': {'cost': 1.0, 'calories': 180}, 'bolillo': {'cost': 0.6, 'calories': 150}, 'torta': {'cost': 0.8, 'calories': 180}, 'lavash': {'cost': 1.0, 'calories': 160}, 'cornbread': {'cost': 1.5, 'calories': 180}, 'chapati': {'cost': 0.5, 'calories': 120}, 'paratha': {'cost': 0.8, 'calories': 150}, 'wrap': {'cost': 1.0, 'calories': 150}, 'bun': {'cost': 0.5, 'calories': 120}, 'steamed bun': {'cost': 0.8, 'calories': 140}}, 'meats': {'beef': {'cost': 3.0, 'calories': 250}, 'chicken': {'cost': 2.0, 'calories': 200}, 'turkey': {'cost': 2.5, 'calories': 180}, 'pork': {'cost': 2.5, 'calories': 220}, 'ham': {'cost': 2.0, 'calories': 150}, 'bacon': {'cost': 1.0, 'calories': 50}, 'sausage': {'cost': 1.5, 'calories': 180}, 'bratwurst': {'cost': 2.0, 'calories': 250}, 'salami': {'cost': 2.0, 'calories': 120}, 'prosciutto': {'cost': 2.5, 'calories': 70}, 'pepperoni': {'cost': 1.5, 'calories': 80}, 'pastrami': {'cost': 2.0, 'calories': 120}, 'mortadella': {'cost': 2.0, 'calories': 100}, 'lamb': {'cost': 3.5, 'calories': 250}, 'duck': {'cost': 4.0, 'calories': 350}, 'roast beef': {'cost': 3.0, 'calories': 250}, 'veal': {'cost': 3.5, 'calories': 200}, 'venison': {'cost': 4.0, 'calories': 220}, 'chorizo': {'cost': 2.0, 'calories': 100}, 'capicola': {'cost': 2.5, 'calories': 90}, 'bresaola': {'cost': 3.0, 'calories': 70}, 'pancetta': {'cost': 2.5, 'calories': 80}, 'smoked fish': {'cost': 4.0, 'calories': 100}, 'tuna': {'cost': 2.0, 'calories': 150}, 'shrimp': {'cost': 3.0, 'calories': 100}, 'crab': {'cost': 3.5, 'calories': 70}, 'lobster': {'cost': 5.0, 'calories': 100}, 'meatballs': {'cost': 2.0, 'calories': 150}, 'pulled pork': {'cost': 2.5, 'calories': 200}, 'carnitas': {'cost': 2.5, 'calories': 200}, 'corned beef': {'cost': 3.0, 'calories': 200}, 'brisket': {'cost': 3.5, 'calories': 250}, 'gyro': {'cost': 2.5, 'calories': 220}, 'char siu': {'cost': 3.0, 'calories': 240}, 'shawarma': {'cost': 2.5, 'calories': 220}, 'jerky': {'cost': 1.5, 'calories': 70}}, 'cheeses': {'cheddar': {'cost': 1.0, 'calories': 110}, 'mozzarella': {'cost': 1.0, 'calories': 80}, 'swiss': {'cost': 1.2, 'calories': 100}, 'provolone': {'cost': 1.0, 'calories': 90}, 'brie': {'cost': 1.5, 'calories': 95}, 'gorgonzola': {'cost': 1.5, 'calories': 100}, 'feta': {'cost': 1.2, 'calories': 70}, 'parmesan': {'cost': 1.5, 'calories': 110}, 'gouda': {'cost': 1.3, 'calories': 100}, 'ricotta': {'cost': 1.0, 'calories': 60}, 'blue cheese': {'cost': 1.5, 'calories': 100}, 'goat cheese': {'cost': 1.5, 'calories': 80}, 'monterey jack': {'cost': 1.0, 'calories': 90}, 'cream cheese': {'cost': 0.8, 'calories': 50}, 'american cheese': {'cost': 0.7, 'calories': 90}, 'colby': {'cost': 1.0, 'calories': 95}, 'pepper jack': {'cost': 1.0, 'calories': 90}, 'gruyere': {'cost': 1.5, 'calories': 110}, 'camembert': {'cost': 1.5, 'calories': 95}, 'asiago': {'cost': 1.2, 'calories': 110}, 'romano': {'cost': 1.3, 'calories': 110}, 'havarti': {'cost': 1.2, 'calories': 100}, 'burrata': {'cost': 1.5, 'calories': 80}, 'stracciatella': {'cost': 1.5, 'calories': 90}, 'queso fresco': {'cost': 1.0, 'calories': 60}, 'cotija': {'cost': 1.0, 'calories': 80}, 'paneer': {'cost': 1.0, 'calories': 100}, 'halloumi': {'cost': 1.5, 'calories': 110}}, 'vegetables': {'lettuce': {'cost': 0.5, 'calories': 10}, 'tomato': {'cost': 0.6, 'calories': 20}, 'onion': {'cost': 0.4, 'calories': 40}, 'pepper': {'cost': 0.7, 'calories': 20}, 'spinach': {'cost': 0.5, 'calories': 15}, 'cucumber': {'cost': 0.4, 'calories': 10}, 'basil': {'cost': 1.0, 'calories': 5}, 'sprouts': {'cost': 1.2, 'calories': 15}, 'avocado': {'cost': 1.5, 'calories': 150}, 'kale': {'cost': 1.0, 'calories': 50}, 'zucchini': {'cost': 0.7, 'calories': 20}, 'carrot': {'cost': 0.3, 'calories': 30}, 'radish': {'cost': 0.4, 'calories': 10}, 'celery': {'cost': 0.3, 'calories': 5}, 'mushrooms': {'cost': 0.8, 'calories': 20}, 'pickle': {'cost': 0.5, 'calories': 5}, 'scallion': {'cost': 0.5, 'calories': 5}, 'watercress': {'cost': 1.0, 'calories': 5}, 'eggplant': {'cost': 1.0, 'calories': 20}, 'beet': {'cost': 0.7, 'calories': 40}, 'fennel': {'cost': 1.2, 'calories': 20}, 'artichoke': {'cost': 1.5, 'calories': 60}, 'garlic': {'cost': 0.5, 'calories': 5}, 'olive': {'cost': 1.5, 'calories': 50}, 'sun-dried tomato': {'cost': 1.5, 'calories': 100}, 'kimchi': {'cost': 1.2, 'calories': 20}, 'cabbage': {'cost': 0.6, 'calories': 25}, 'greens': {'cost': 0.5, 'calories': 15}, 'herbs': {'cost': 1.0, 'calories': 5}}, 'condiments': {'mayonnaise': {'cost': 1.0, 'calories': 100}, 'mustard': {'cost': 0.5, 'calories': 5}, 'oil': {'cost': 0.8, 'calories': 120}, 'butter': {'cost': 0.5, 'calories': 100}, 'ketchup': {'cost': 0.6, 'calories': 20}, 'relish': {'cost': 0.5, 'calories': 10}, 'vinegar': {'cost': 0.3, 'calories': 0}, 'dressing': {'cost': 1.0, 'calories': 80}, 'salsa': {'cost': 0.8, 'calories': 15}, 'sauce': {'cost': 0.5, 'calories': 50}, 'pesto': {'cost': 1.5, 'calories': 80}, 'chimichurri': {'cost': 1.2, 'calories': 60}, 'aioli': {'cost': 1.0, 'calories': 90}, 'tahini': {'cost': 1.2, 'calories': 100}, 'honey': {'cost': 0.7, 'calories': 60}, 'horseradish': {'cost': 0.8, 'calories': 10}, 'hummus': {'cost': 1.0, 'calories': 60}, 'guacamole': {'cost': 1.5, 'calories': 50}, 'tartar sauce': {'cost': 1.0, 'calories': 80}, 'yogurt sauce': {'cost': 1.0, 'calories': 50}, 'dijon': {'cost': 0.6, 'calories': 5}, 'marinara': {'cost': 0.8, 'calories': 40}, 'glaze': {'cost': 1.2, 'calories': 60}, 'chutney': {'cost': 1.0, 'calories': 50}}, 'spices': {'salt': {'cost': 0.1, 'calories': 0}, 'black pepper': {'cost': 0.5, 'calories': 5}, 'cumin': {'cost': 0.5, 'calories': 10}, 'paprika': {'cost': 0.5, 'calories': 10}, 'coriander': {'cost': 0.5, 'calories': 10}, 'oregano': {'cost': 0.4, 'calories': 5}, 'basil': {'cost': 0.5, 'calories': 5}, 'thyme': {'cost': 0.5, 'calories': 5}, 'rosemary': {'cost': 0.5, 'calories': 5}, 'cayenne pepper': {'cost': 0.5, 'calories': 5}, 'turmeric': {'cost': 0.6, 'calories': 5}, 'parsley': {'cost': 0.5, 'calories': 5}, 'dill': {'cost': 0.5, 'calories': 5}, 'cinnamon': {'cost': 0.6, 'calories': 10}, 'nutmeg': {'cost': 0.5, 'calories': 10}, 'allspice': {'cost': 0.6, 'calories': 10}, 'cloves': {'cost': 0.6, 'calories': 10}, 'cardamom': {'cost': 0.8, 'calories': 10}, 'bay leaf': {'cost': 0.4, 'calories': 0}, 'saffron': {'cost': 1.5, 'calories': 5}, 'sage': {'cost': 0.5, 'calories': 5}, 'mustard seed': {'cost': 0.5, 'calories': 10}, 'fenugreek': {'cost': 0.6, 'calories': 10}, 'anise': {'cost': 0.5, 'calories': 5}, 'five-spice': {'cost': 0.6, 'calories': 5}, 'powder': {'cost': 0.5, 'calories': 5}, 'seasoning': {'cost': 0.6, 'calories': 5}, \"za'atar\": {'cost': 0.6, 'calories': 5}, 'sumac': {'cost': 0.6, 'calories': 5}}}\n",
            "_id\n",
            "breads\n",
            "meats\n",
            "cheeses\n",
            "vegetables\n",
            "condiments\n",
            "spices\n",
            "{'_id': 'mr_pickles', 'breads': {'dutch crunch': {'cost': 0.0, 'calories': 0}, 'sourdough': {'cost': 0.0, 'calories': 0}, 'wheat': {'cost': 0.0, 'calories': 0}, 'french': {'cost': 0.0, 'calories': 0}, 'marble rye': {'cost': 0.0, 'calories': 0}, 'gluten free wrap': {'cost': 0.99, 'calories': 0}, 'multi-grain wheat': {'cost': 0.0, 'calories': 0}, 'spinach wrap': {'cost': 0.0, 'calories': 0}}, 'meats': {'turkey breast': {'cost': 13.99, 'calories': 0}, 'ham': {'cost': 13.99, 'calories': 0}, 'chicken salad': {'cost': 13.99, 'calories': 0}, 'marinated chicken': {'cost': 14.39, 'calories': 0}, 'salami': {'cost': 13.99, 'calories': 0}, 'roast beef': {'cost': 14.99, 'calories': 0}, 'tuna salad': {'cost': 14.99, 'calories': 0}, 'pastrami': {'cost': 14.69, 'calories': 0}, 'bacon': {'cost': 13.99, 'calories': 0}, 'veggie patty': {'cost': 11.99, 'calories': 0}}, 'vegetables': {'red peppers': {'cost': 0.0, 'calories': 0}, 'cucumber': {'cost': 0.0, 'calories': 0}, 'jalapenos': {'cost': 0.69, 'calories': 0}, 'sauerkraut': {'cost': 0.99, 'calories': 0}, 'tomato': {'cost': 0.0, 'calories': 0}, 'onions': {'cost': 0.0, 'calories': 0}, 'pickles': {'cost': 0.0, 'calories': 0}, 'pepperoncinis': {'cost': 0.0, 'calories': 0}, 'lettuce': {'cost': 0.0, 'calories': 0}, 'avocado': {'cost': 1.79, 'calories': 0}}, 'cheeses': {'swiss': {'cost': 0.0, 'calories': 0}, 'cheddar cheese': {'cost': 0.0, 'calories': 0}, 'monterey jack': {'cost': 0.0, 'calories': 0}, 'provolone': {'cost': 0.0, 'calories': 0}, 'pepper jack': {'cost': 0.0, 'calories': 0}, 'american': {'cost': 0.0, 'calories': 0}, 'cream cheese': {'cost': 0.0, 'calories': 0}}, 'condiments': {'mayonnaise': {'cost': 0.0, 'calories': 0}, 'mustard': {'cost': 0.0, 'calories': 0}, 'garlic sauce': {'cost': 0.0, 'calories': 0}, 'cranberry sauce': {'cost': 1.29, 'calories': 0}, 'hummus roasted red pepper': {'cost': 1.49, 'calories': 0}, 'sauces': {'cost': 0.0, 'calories': 0}}, 'spices': {'salt': {'cost': 0.0, 'calories': 0}, 'pepper': {'cost': 0.0, 'calories': 0}}}\n",
            "_id\n",
            "breads\n",
            "meats\n",
            "vegetables\n",
            "cheeses\n",
            "condiments\n",
            "spices\n",
            "{'_id': 'subway', 'breads': {'white': {'cost': 4.0, 'calories': 195}, '9-grain wheat': {'cost': 4.0, 'calories': 195}, 'honey oat': {'cost': 4.0, 'calories': 210}, 'parmesan oregano': {'cost': 4.0, 'calories': 206}, 'flatbread, artisan': {'cost': 4.0, 'calories': 0}, 'gluten-free bread': {'cost': 4.0, 'calories': 0}, 'hearty italian bread': {'cost': 4.0, 'calories': 0}, 'italian herbs & cheese bread': {'cost': 4.0, 'calories': 0}, 'monterey cheddar bread': {'cost': 4.0, 'calories': 0}, 'roasted garlic bread': {'cost': 4.0, 'calories': 0}, 'slider roll': {'cost': 4.0, 'calories': 0}, 'sourdough': {'cost': 4.0, 'calories': 0}, 'ultimate cheesy garlic bread': {'cost': 4.0, 'calories': 0}, 'tomato basil wrap': {'cost': 4.0, 'calories': 0}, 'spinach wrap': {'cost': 4.0, 'calories': 196}}, 'meats': {'black forest ham': {'cost': 3.75, 'calories': 0}, 'honey-smoked ham': {'cost': 3.75, 'calories': 0}, 'steak': {'cost': 3.75, 'calories': 0}, 'turkey breast': {'cost': 3.75, 'calories': 0}, 'chicken breast': {'cost': 3.75, 'calories': 50}, 'chicken teriyaki': {'cost': 3.75, 'calories': 112}, 'chicken strips': {'cost': 3.75, 'calories': 74}, 'oven roasted chicken breast': {'cost': 3.75, 'calories': 81}, 'ham': {'cost': 3.75, 'calories': 67}, 'bacon': {'cost': 3.75, 'calories': 48}, 'italian meatballs': {'cost': 3.75, 'calories': 133}, 'roast beef': {'cost': 3.75, 'calories': 96}, 'taco beef': {'cost': 3.75, 'calories': 70}, 'genoa salami': {'cost': 3.75, 'calories': 72}, 'turkey bologna': {'cost': 3.75, 'calories': 0}, 'turkey ham': {'cost': 3.75, 'calories': 0}, 'turkey salami': {'cost': 3.75, 'calories': 0}, 'pepperoni': {'cost': 3.75, 'calories': 54}, 'subway melttm': {'cost': 3.75, 'calories': 71}, 'tuna': {'cost': 3.75, 'calories': 257}, 'shrimp': {'cost': 3.75, 'calories': 22}, 'egg mayo': {'cost': 3.75, 'calories': 171}, 'egg patty': {'cost': 3.75, 'calories': 41}, 'egg white patty': {'cost': 3.75, 'calories': 0}, 'veggie patty': {'cost': 3.75, 'calories': 0}, 'falafel': {'cost': 3.75, 'calories': 175}}, 'vegetables': {'avocado': {'cost': 0.0, 'calories': 75}, 'lettuce': {'cost': 0.0, 'calories': 3}, 'tomato': {'cost': 0.0, 'calories': 6}, 'cucumber': {'cost': 0.0, 'calories': 2}, 'onion': {'cost': 0.0, 'calories': 3}, 'green pepper': {'cost': 0.0, 'calories': 1}, 'spinach': {'cost': 0.0, 'calories': 0}, 'banulla pepper': {'cost': 0.0, 'calories': 0}, 'sweet corn': {'cost': 0.0, 'calories': 0}, 'pickle': {'cost': 0.0, 'calories': 1}, 'black olive': {'cost': 0.0, 'calories': 4}, 'jalapeno': {'cost': 0.0, 'calories': 2}}, 'cheeses': {'smoked cheddar': {'cost': 3.75, 'calories': 0}, 'monterey jack': {'cost': 3.75, 'calories': 0}, 'mozzarella': {'cost': 3.75, 'calories': 0}, 'provolone': {'cost': 3.75, 'calories': 0}, 'swiss': {'cost': 3.75, 'calories': 0}, 'american': {'cost': 3.75, 'calories': 40}, 'parmesan': {'cost': 3.75, 'calories': 54}}, 'condiments': {'caesar dressing': {'cost': 0.0, 'calories': 0}, 'ranch dressing': {'cost': 0.0, 'calories': 0}, 'buffalo sauce': {'cost': 0.0, 'calories': 0}, 'vinaigrette dressing': {'cost': 0.0, 'calories': 0}, 'chipotle southwest sauce': {'cost': 0.0, 'calories': 66}, 'yellow mustard': {'cost': 0.0, 'calories': 9}, 'marinara': {'cost': 0.0, 'calories': 10}, 'sweet onion sauce': {'cost': 0.0, 'calories': 33}, 'honey mustard': {'cost': 0.0, 'calories': 21}, 'mayonnaise': {'cost': 0.0, 'calories': 100}, 'olive oil': {'cost': 0.0, 'calories': 44}, 'herb garlic oil': {'cost': 0.0, 'calories': 0}, 'red wine vinegar': {'cost': 0.0, 'calories': 0}, 'italian dressing': {'cost': 0.0, 'calories': 62}, 'thousand island dressing': {'cost': 0.0, 'calories': 62}, 'guacamole': {'cost': 0.0, 'calories': 0}, 'brown mustard': {'cost': 0.0, 'calories': 0}}, 'spices': {'salt': {'cost': 0.0, 'calories': 0}, 'pepper': {'cost': 0.0, 'calories': 0}, 'sub spice': {'cost': 0.0, 'calories': 0}}}\n",
            "_id\n",
            "breads\n",
            "meats\n",
            "vegetables\n",
            "cheeses\n",
            "condiments\n",
            "spices\n"
          ]
        }
      ]
    },
    {
      "cell_type": "markdown",
      "source": [
        "## Build the new list"
      ],
      "metadata": {
        "id": "Rk_AmrjRLZVA"
      }
    },
    {
      "cell_type": "code",
      "source": [
        "# create a new list of restructured sandwiches\n",
        "new_sandwiches_table = []\n",
        "for sandwich in old_sandwiches_table:\n",
        "  new_sandwich = dict()\n",
        "  new_sandwich[\"_id\"] = sandwich[\"_id\"]\n",
        "  new_sandwich[\"name\"] = sandwich[\"name\"]\n",
        "  new_sandwich[\"cuisine\"] = sandwich[\"cuisine\"]\n",
        "  new_sandwich[\"dietary_tags\"] = sandwich[\"dietary_tags\"]\n",
        "  new_sandwich[\"ingredients\"] = sandwich[\"ingredients\"]\n",
        "  new_sandwich[\"restaurants\"] = []\n",
        "  new_sandwich[\"costs\"] = []\n",
        "  new_sandwich[\"calories\"] = []\n",
        "  new_sandwich[\"rating\"] = sandwich[\"rating\"]\n",
        "  new_sandwich[\"reviews\"] = []\n",
        "\n",
        "  # make sure the ids line up with their list indices\n",
        "  if len(new_sandwiches_table) != sandwich[\"_id\"]:\n",
        "    print(f\"Error, discontinuity for sandwich {len(new_sandwiches_table)} (sandwich _id = {sandwich['_id']})\")\n",
        "    break\n",
        "\n",
        "  new_sandwiches_table.append(new_sandwich)"
      ],
      "metadata": {
        "id": "I3vk9YA42SiH"
      },
      "execution_count": 52,
      "outputs": []
    },
    {
      "cell_type": "code",
      "source": [
        "for sandwich in new_sandwiches_table:\n",
        "  for restaurant in ingredients_table:\n",
        "    sandwich_ingredients = sandwich[\"ingredients\"]\n",
        "\n",
        "    # if a sandwich can be made at a given restaurant\n",
        "    if available_at_restaurant(sandwich_ingredients, restaurant):\n",
        "      cost_estimate = get_estimate(sandwich_ingredients, restaurant, \"cost\")\n",
        "\n",
        "      # account for potential bread or meat mismatches for subway\n",
        "      if restaurant[\"_id\"] != \"default\" and cost_estimate < 5:\n",
        "        cost_estimate += 3.75\n",
        "\n",
        "      calorie_estimate = get_estimate(sandwich_ingredients, restaurant, \"calories\")\n",
        "\n",
        "      # append its associated properties to the new sandwiches table object\n",
        "      # relies on the assumption that _id == sandwich object's index in the sandwich list\n",
        "      new_sandwiches_table[sandwich[\"_id\"]][\"restaurants\"].append(restaurant[\"_id\"])\n",
        "      new_sandwiches_table[sandwich[\"_id\"]][\"costs\"].append(cost_estimate)\n",
        "      new_sandwiches_table[sandwich[\"_id\"]][\"calories\"].append(calorie_estimate)\n",
        "\n",
        "  print(f\"Restaurants that sell this sandwich: {new_sandwiches_table[sandwich['_id']]['restaurants']}\")\n",
        "\n",
        "  # validate restaurant tagging\n",
        "  if len(new_sandwiches_table[sandwich[\"_id\"]][\"restaurants\"]) == 0:\n",
        "      old_data = old_sandwiches_table[sandwich[\"_id\"]]\n",
        "\n",
        "      new_sandwiches_table[sandwich[\"_id\"]][\"restaurants\"].append(\"default\")\n",
        "      new_sandwiches_table[sandwich[\"_id\"]][\"costs\"].append(old_data[\"cost\"])\n",
        "      new_sandwiches_table[sandwich[\"_id\"]][\"calories\"].append(old_data[\"calories\"])"
      ],
      "metadata": {
        "colab": {
          "base_uri": "https://localhost:8080/"
        },
        "id": "LzuKuwHhlI0e",
        "outputId": "9b54bc36-679e-4726-f829-ce2379f12321"
      },
      "execution_count": 53,
      "outputs": [
        {
          "output_type": "stream",
          "name": "stdout",
          "text": [
            "Restaurants that sell this sandwich: []\n",
            "Restaurants that sell this sandwich: []\n",
            "Restaurants that sell this sandwich: ['default']\n",
            "Restaurants that sell this sandwich: ['default']\n",
            "Restaurants that sell this sandwich: ['default']\n",
            "Restaurants that sell this sandwich: ['default']\n",
            "Restaurants that sell this sandwich: ['default']\n",
            "Restaurants that sell this sandwich: ['default']\n",
            "Restaurants that sell this sandwich: ['default']\n",
            "Restaurants that sell this sandwich: ['default']\n",
            "Restaurants that sell this sandwich: ['default']\n",
            "Restaurants that sell this sandwich: ['default']\n",
            "Restaurants that sell this sandwich: ['default']\n",
            "Restaurants that sell this sandwich: ['default']\n",
            "Restaurants that sell this sandwich: ['default']\n",
            "Restaurants that sell this sandwich: ['default']\n",
            "Restaurants that sell this sandwich: ['default']\n",
            "Restaurants that sell this sandwich: ['default']\n",
            "Restaurants that sell this sandwich: ['default']\n",
            "Restaurants that sell this sandwich: ['default']\n",
            "Restaurants that sell this sandwich: ['default']\n",
            "Restaurants that sell this sandwich: ['default']\n",
            "Restaurants that sell this sandwich: []\n",
            "Restaurants that sell this sandwich: ['default']\n",
            "Restaurants that sell this sandwich: ['default']\n",
            "Restaurants that sell this sandwich: ['default']\n",
            "Restaurants that sell this sandwich: ['default']\n",
            "Restaurants that sell this sandwich: []\n",
            "Restaurants that sell this sandwich: ['default']\n",
            "Restaurants that sell this sandwich: ['default']\n",
            "Restaurants that sell this sandwich: ['default']\n",
            "Restaurants that sell this sandwich: []\n",
            "Restaurants that sell this sandwich: ['default']\n",
            "Restaurants that sell this sandwich: ['default']\n",
            "Restaurants that sell this sandwich: ['default']\n",
            "Restaurants that sell this sandwich: ['default']\n",
            "Restaurants that sell this sandwich: ['default']\n",
            "Restaurants that sell this sandwich: ['default']\n",
            "Restaurants that sell this sandwich: ['default']\n",
            "Restaurants that sell this sandwich: ['default']\n",
            "Restaurants that sell this sandwich: ['default']\n",
            "Restaurants that sell this sandwich: ['default']\n",
            "Restaurants that sell this sandwich: ['default']\n",
            "Restaurants that sell this sandwich: ['default']\n",
            "Restaurants that sell this sandwich: ['default']\n",
            "Restaurants that sell this sandwich: ['default']\n",
            "Restaurants that sell this sandwich: ['default']\n",
            "Restaurants that sell this sandwich: ['default']\n",
            "Restaurants that sell this sandwich: ['default']\n",
            "Restaurants that sell this sandwich: ['default']\n",
            "Restaurants that sell this sandwich: ['default']\n",
            "Restaurants that sell this sandwich: ['default']\n",
            "Restaurants that sell this sandwich: ['default']\n",
            "Restaurants that sell this sandwich: ['default']\n",
            "Restaurants that sell this sandwich: ['default']\n",
            "Restaurants that sell this sandwich: ['default']\n",
            "Restaurants that sell this sandwich: ['default']\n",
            "Restaurants that sell this sandwich: ['default']\n",
            "Restaurants that sell this sandwich: ['default']\n",
            "Restaurants that sell this sandwich: ['default']\n",
            "Restaurants that sell this sandwich: ['default']\n",
            "Restaurants that sell this sandwich: ['default']\n",
            "Restaurants that sell this sandwich: ['default']\n",
            "Restaurants that sell this sandwich: ['default']\n",
            "Restaurants that sell this sandwich: []\n",
            "Restaurants that sell this sandwich: ['default']\n",
            "Restaurants that sell this sandwich: ['default']\n",
            "Restaurants that sell this sandwich: ['default']\n",
            "Restaurants that sell this sandwich: ['default']\n",
            "Restaurants that sell this sandwich: []\n",
            "Restaurants that sell this sandwich: ['default']\n",
            "Restaurants that sell this sandwich: ['default']\n",
            "Restaurants that sell this sandwich: ['default']\n",
            "Restaurants that sell this sandwich: ['default']\n",
            "Restaurants that sell this sandwich: ['default']\n",
            "Restaurants that sell this sandwich: ['default']\n",
            "Restaurants that sell this sandwich: ['default']\n",
            "Restaurants that sell this sandwich: ['default']\n",
            "Restaurants that sell this sandwich: ['default']\n",
            "Restaurants that sell this sandwich: ['default']\n",
            "Restaurants that sell this sandwich: ['default']\n",
            "Restaurants that sell this sandwich: ['default']\n",
            "Restaurants that sell this sandwich: ['default']\n",
            "Restaurants that sell this sandwich: ['default']\n",
            "Restaurants that sell this sandwich: ['default']\n",
            "Restaurants that sell this sandwich: ['default']\n",
            "Restaurants that sell this sandwich: []\n",
            "Restaurants that sell this sandwich: ['default']\n",
            "Restaurants that sell this sandwich: ['default']\n",
            "Restaurants that sell this sandwich: ['default']\n",
            "Restaurants that sell this sandwich: []\n",
            "Restaurants that sell this sandwich: ['default']\n",
            "Restaurants that sell this sandwich: ['default']\n",
            "Restaurants that sell this sandwich: ['default']\n",
            "Restaurants that sell this sandwich: ['default']\n",
            "Restaurants that sell this sandwich: ['default']\n",
            "Restaurants that sell this sandwich: ['default']\n",
            "Restaurants that sell this sandwich: ['default']\n",
            "Restaurants that sell this sandwich: ['default']\n",
            "Restaurants that sell this sandwich: ['default']\n",
            "Restaurants that sell this sandwich: ['default']\n",
            "Restaurants that sell this sandwich: ['default']\n",
            "Restaurants that sell this sandwich: ['default']\n",
            "Restaurants that sell this sandwich: []\n",
            "Restaurants that sell this sandwich: []\n",
            "Restaurants that sell this sandwich: ['default']\n",
            "Restaurants that sell this sandwich: ['default']\n",
            "Restaurants that sell this sandwich: ['default']\n",
            "Restaurants that sell this sandwich: ['default']\n",
            "Restaurants that sell this sandwich: ['default']\n",
            "Restaurants that sell this sandwich: ['default']\n",
            "Restaurants that sell this sandwich: ['default']\n",
            "Restaurants that sell this sandwich: ['default']\n",
            "Restaurants that sell this sandwich: ['default']\n",
            "Restaurants that sell this sandwich: []\n",
            "Restaurants that sell this sandwich: ['default']\n",
            "Restaurants that sell this sandwich: ['default']\n",
            "Restaurants that sell this sandwich: ['default']\n",
            "Restaurants that sell this sandwich: ['default']\n",
            "Restaurants that sell this sandwich: ['default']\n",
            "Restaurants that sell this sandwich: ['default']\n",
            "Restaurants that sell this sandwich: ['default']\n",
            "Restaurants that sell this sandwich: ['default']\n",
            "Restaurants that sell this sandwich: ['default']\n",
            "Restaurants that sell this sandwich: ['default']\n",
            "Restaurants that sell this sandwich: ['default']\n",
            "Restaurants that sell this sandwich: []\n",
            "Restaurants that sell this sandwich: []\n",
            "Restaurants that sell this sandwich: ['default']\n",
            "Restaurants that sell this sandwich: ['default']\n",
            "Restaurants that sell this sandwich: ['default']\n",
            "Restaurants that sell this sandwich: ['default']\n",
            "Restaurants that sell this sandwich: ['default']\n",
            "Restaurants that sell this sandwich: ['default']\n",
            "Restaurants that sell this sandwich: ['default']\n",
            "Restaurants that sell this sandwich: ['default']\n",
            "Restaurants that sell this sandwich: ['default']\n",
            "Restaurants that sell this sandwich: ['default']\n",
            "Restaurants that sell this sandwich: ['default']\n",
            "Restaurants that sell this sandwich: ['default']\n",
            "Restaurants that sell this sandwich: ['default']\n",
            "Restaurants that sell this sandwich: ['default']\n",
            "Restaurants that sell this sandwich: ['default']\n",
            "Restaurants that sell this sandwich: ['default']\n",
            "Restaurants that sell this sandwich: ['default']\n",
            "Restaurants that sell this sandwich: ['default', 'mr_pickles', 'subway']\n",
            "Restaurants that sell this sandwich: ['default', 'mr_pickles', 'subway']\n",
            "Restaurants that sell this sandwich: ['default']\n",
            "Restaurants that sell this sandwich: ['default', 'mr_pickles', 'subway']\n",
            "Restaurants that sell this sandwich: ['default']\n",
            "Restaurants that sell this sandwich: ['default']\n",
            "Restaurants that sell this sandwich: ['default']\n",
            "Restaurants that sell this sandwich: ['default']\n",
            "Restaurants that sell this sandwich: ['default']\n",
            "Restaurants that sell this sandwich: ['default', 'mr_pickles', 'subway']\n",
            "Restaurants that sell this sandwich: ['default']\n",
            "Restaurants that sell this sandwich: ['default', 'mr_pickles', 'subway']\n",
            "Restaurants that sell this sandwich: ['default']\n",
            "Restaurants that sell this sandwich: ['default']\n",
            "Restaurants that sell this sandwich: ['default']\n",
            "Restaurants that sell this sandwich: ['default', 'mr_pickles', 'subway']\n",
            "Restaurants that sell this sandwich: ['default']\n",
            "Restaurants that sell this sandwich: ['default', 'mr_pickles', 'subway']\n",
            "Restaurants that sell this sandwich: ['default', 'mr_pickles', 'subway']\n",
            "Restaurants that sell this sandwich: ['default']\n",
            "Restaurants that sell this sandwich: ['default', 'mr_pickles', 'subway']\n",
            "Restaurants that sell this sandwich: ['default', 'mr_pickles', 'subway']\n",
            "Restaurants that sell this sandwich: ['default', 'mr_pickles', 'subway']\n",
            "Restaurants that sell this sandwich: ['default']\n",
            "Restaurants that sell this sandwich: ['default']\n",
            "Restaurants that sell this sandwich: []\n",
            "Restaurants that sell this sandwich: ['default']\n",
            "Restaurants that sell this sandwich: ['default']\n",
            "Restaurants that sell this sandwich: ['default']\n",
            "Restaurants that sell this sandwich: ['default']\n",
            "Restaurants that sell this sandwich: ['default']\n",
            "Restaurants that sell this sandwich: ['default', 'mr_pickles', 'subway']\n",
            "Restaurants that sell this sandwich: ['default', 'subway']\n",
            "Restaurants that sell this sandwich: ['default']\n",
            "Restaurants that sell this sandwich: ['default']\n",
            "Restaurants that sell this sandwich: ['default']\n",
            "Restaurants that sell this sandwich: ['default']\n",
            "Restaurants that sell this sandwich: ['default']\n",
            "Restaurants that sell this sandwich: ['default']\n",
            "Restaurants that sell this sandwich: ['default']\n",
            "Restaurants that sell this sandwich: ['default']\n",
            "Restaurants that sell this sandwich: ['default']\n",
            "Restaurants that sell this sandwich: ['default']\n",
            "Restaurants that sell this sandwich: ['default']\n",
            "Restaurants that sell this sandwich: ['default']\n",
            "Restaurants that sell this sandwich: ['default']\n",
            "Restaurants that sell this sandwich: ['default']\n",
            "Restaurants that sell this sandwich: ['default']\n",
            "Restaurants that sell this sandwich: ['default']\n",
            "Restaurants that sell this sandwich: ['default', 'mr_pickles', 'subway']\n",
            "Restaurants that sell this sandwich: ['default', 'mr_pickles', 'subway']\n"
          ]
        }
      ]
    },
    {
      "cell_type": "code",
      "source": [
        "def download_json(filename, json_data):\n",
        "  with open(filename, 'w') as f:\n",
        "      f.write(\"[\\n\")\n",
        "      for entry in json_data:\n",
        "        json.dump(entry, f, indent=4)\n",
        "        f.write(\",\\n\")\n",
        "      f.write(\"]\")\n",
        "\n",
        "  # Download the reformatted JSON file\n",
        "  files.download(filename)"
      ],
      "metadata": {
        "id": "T0pFvKZ0Jrqz"
      },
      "execution_count": 54,
      "outputs": []
    },
    {
      "cell_type": "code",
      "source": [
        "download_json(\"restaurant_ingredients.json\", ingredients_table)\n",
        "download_json(\"sandwiches.json\", new_sandwiches_table)"
      ],
      "metadata": {
        "colab": {
          "base_uri": "https://localhost:8080/",
          "height": 17
        },
        "id": "MzslmmH0PsWp",
        "outputId": "2119b606-9854-419f-ed5f-887c1b53390a"
      },
      "execution_count": 56,
      "outputs": [
        {
          "output_type": "display_data",
          "data": {
            "text/plain": [
              "<IPython.core.display.Javascript object>"
            ],
            "application/javascript": [
              "\n",
              "    async function download(id, filename, size) {\n",
              "      if (!google.colab.kernel.accessAllowed) {\n",
              "        return;\n",
              "      }\n",
              "      const div = document.createElement('div');\n",
              "      const label = document.createElement('label');\n",
              "      label.textContent = `Downloading \"${filename}\": `;\n",
              "      div.appendChild(label);\n",
              "      const progress = document.createElement('progress');\n",
              "      progress.max = size;\n",
              "      div.appendChild(progress);\n",
              "      document.body.appendChild(div);\n",
              "\n",
              "      const buffers = [];\n",
              "      let downloaded = 0;\n",
              "\n",
              "      const channel = await google.colab.kernel.comms.open(id);\n",
              "      // Send a message to notify the kernel that we're ready.\n",
              "      channel.send({})\n",
              "\n",
              "      for await (const message of channel.messages) {\n",
              "        // Send a message to notify the kernel that we're ready.\n",
              "        channel.send({})\n",
              "        if (message.buffers) {\n",
              "          for (const buffer of message.buffers) {\n",
              "            buffers.push(buffer);\n",
              "            downloaded += buffer.byteLength;\n",
              "            progress.value = downloaded;\n",
              "          }\n",
              "        }\n",
              "      }\n",
              "      const blob = new Blob(buffers, {type: 'application/binary'});\n",
              "      const a = document.createElement('a');\n",
              "      a.href = window.URL.createObjectURL(blob);\n",
              "      a.download = filename;\n",
              "      div.appendChild(a);\n",
              "      a.click();\n",
              "      div.remove();\n",
              "    }\n",
              "  "
            ]
          },
          "metadata": {}
        },
        {
          "output_type": "display_data",
          "data": {
            "text/plain": [
              "<IPython.core.display.Javascript object>"
            ],
            "application/javascript": [
              "download(\"download_ce69943b-1568-483e-a656-4869361202f6\", \"restaurant_ingredients.json\", 26346)"
            ]
          },
          "metadata": {}
        },
        {
          "output_type": "display_data",
          "data": {
            "text/plain": [
              "<IPython.core.display.Javascript object>"
            ],
            "application/javascript": [
              "\n",
              "    async function download(id, filename, size) {\n",
              "      if (!google.colab.kernel.accessAllowed) {\n",
              "        return;\n",
              "      }\n",
              "      const div = document.createElement('div');\n",
              "      const label = document.createElement('label');\n",
              "      label.textContent = `Downloading \"${filename}\": `;\n",
              "      div.appendChild(label);\n",
              "      const progress = document.createElement('progress');\n",
              "      progress.max = size;\n",
              "      div.appendChild(progress);\n",
              "      document.body.appendChild(div);\n",
              "\n",
              "      const buffers = [];\n",
              "      let downloaded = 0;\n",
              "\n",
              "      const channel = await google.colab.kernel.comms.open(id);\n",
              "      // Send a message to notify the kernel that we're ready.\n",
              "      channel.send({})\n",
              "\n",
              "      for await (const message of channel.messages) {\n",
              "        // Send a message to notify the kernel that we're ready.\n",
              "        channel.send({})\n",
              "        if (message.buffers) {\n",
              "          for (const buffer of message.buffers) {\n",
              "            buffers.push(buffer);\n",
              "            downloaded += buffer.byteLength;\n",
              "            progress.value = downloaded;\n",
              "          }\n",
              "        }\n",
              "      }\n",
              "      const blob = new Blob(buffers, {type: 'application/binary'});\n",
              "      const a = document.createElement('a');\n",
              "      a.href = window.URL.createObjectURL(blob);\n",
              "      a.download = filename;\n",
              "      div.appendChild(a);\n",
              "      a.click();\n",
              "      div.remove();\n",
              "    }\n",
              "  "
            ]
          },
          "metadata": {}
        },
        {
          "output_type": "display_data",
          "data": {
            "text/plain": [
              "<IPython.core.display.Javascript object>"
            ],
            "application/javascript": [
              "download(\"download_1b99a928-949a-4c90-8dd8-e024d4c5b381\", \"sandwiches.json\", 150374)"
            ]
          },
          "metadata": {}
        }
      ]
    },
    {
      "cell_type": "code",
      "source": [],
      "metadata": {
        "id": "45vegWJ-TITL"
      },
      "execution_count": 47,
      "outputs": []
    }
  ]
}