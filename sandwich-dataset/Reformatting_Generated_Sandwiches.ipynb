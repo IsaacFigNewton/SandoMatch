{
  "nbformat": 4,
  "nbformat_minor": 0,
  "metadata": {
    "colab": {
      "provenance": []
    },
    "kernelspec": {
      "name": "python3",
      "display_name": "Python 3"
    },
    "language_info": {
      "name": "python"
    }
  },
  "cells": [
    {
      "cell_type": "code",
      "source": [
        "import pandas as pd\n",
        "import json\n",
        "import requests\n",
        "from google.colab import files\n",
        "\n",
        "# Step 1: Fetch JSON data from GitHub URL\n",
        "url = \"https://raw.githubusercontent.com/IsaacFigNewton/SandoMatch/refs/heads/main/sandwich-dataset/generated_sandwiches.json\"\n",
        "response = requests.get(url)\n",
        "sandwiches_data = response.json()"
      ],
      "metadata": {
        "id": "tEesYeamRhUc"
      },
      "execution_count": 28,
      "outputs": []
    },
    {
      "cell_type": "code",
      "source": [
        "breads = [\n",
        "    \"baguette\", \"ciabatta\", \"pita\", \"naan\", \"tortilla\", \"roll\", \"sourdough\", \"rye\", \"multigrain\",\n",
        "    \"whole wheat\", \"white bread\", \"brioche\", \"focaccia\", \"panini\", \"english muffin\", \"bagel\",\n",
        "    \"croissant\", \"milk bread\", \"flatbread\", \"pumpernickel\", \"pretzel roll\", \"potato bread\", \"bolillo\",\n",
        "    \"torta\", \"lavash\", \"cornbread\", \"chapati\", \"paratha\", \"wrap\", \"bun\", \"steamed bun\"\n",
        "]\n",
        "\n",
        "meats = [\n",
        "    \"beef\", \"chicken\", \"turkey\", \"pork\", \"ham\", \"bacon\", \"sausage\", \"bratwurst\", \"salami\", \"prosciutto\",\n",
        "    \"pepperoni\", \"pastrami\", \"mortadella\", \"lamb\", \"duck\", \"roast beef\", \"veal\", \"venison\", \"chorizo\",\n",
        "    \"capicola\", \"bresaola\", \"pancetta\", \"smoked fish\", \"tuna\", \"shrimp\", \"crab\", \"lobster\", \"meatballs\",\n",
        "    \"pulled pork\", \"carnitas\", \"corned beef\", \"brisket\", \"gyro\", \"char siu\", \"shawarma\", \"jerky\"\n",
        "]\n",
        "\n",
        "vegetables = [\n",
        "    \"lettuce\", \"tomato\", \"onion\", \"pepper\", \"spinach\", \"cucumber\", \"basil\", \"sprouts\", \"avocado\",\n",
        "    \"kale\", \"zucchini\", \"carrot\", \"radish\", \"celery\", \"mushrooms\", \"pickle\", \"scallion\", \"watercress\",\n",
        "    \"eggplant\", \"beet\", \"fennel\", \"artichoke\", \"garlic\", \"olive\", \"sun-dried tomato\", \"kimchi\", \"cabbage\",\n",
        "    \"greens\", \"herbs\"\n",
        "]\n",
        "\n",
        "condiments = [\n",
        "    \"mayonnaise\", \"mustard\", \"oil\", \"butter\", \"ketchup\", \"relish\", \"vinegar\", \"dressing\",\n",
        "    \"salsa\", \"sauce\", \"pesto\", \"chimichurri\", \"aioli\", \"tahini\", \"honey\", \"horseradish\",\n",
        "    \"hummus\", \"guacamole\", \"tartar sauce\", \"yogurt sauce\", \"dijon\", \"marinara\",\n",
        "    \"glaze\", \"chutney\"\n",
        "]\n",
        "\n",
        "cheeses = [\n",
        "    \"cheddar\", \"mozzarella\", \"swiss\", \"provolone\", \"brie\", \"gorgonzola\", \"feta\", \"parmesan\",\n",
        "    \"gouda\", \"ricotta\", \"blue cheese\", \"goat cheese\", \"monterey jack\", \"cream cheese\",\n",
        "    \"american cheese\", \"colby\", \"pepper jack\", \"gruyere\", \"camembert\", \"asiago\", \"romano\",\n",
        "    \"havarti\", \"burrata\", \"stracciatella\", \"queso fresco\", \"cotija\", \"paneer\", \"halloumi\"\n",
        "]\n",
        "\n",
        "spices = [\n",
        "    \"salt\", \"black pepper\", \"cumin\", \"paprika\", \"coriander\", \"oregano\", \"basil\", \"thyme\",\n",
        "    \"rosemary\", \"cayenne pepper\", \"chili powder\", \"turmeric\", \"garlic powder\", \"onion powder\",\n",
        "    \"parsley\", \"dill\", \"cinnamon\", \"nutmeg\", \"allspice\", \"cloves\", \"cardamom\", \"bay leaf\",\n",
        "    \"saffron\", \"sage\", \"mustard seed\", \"fenugreek\", \"anise\", \"five-spice\", \"curry powder\",\n",
        "    \"creole seasoning\", \"italian seasoning\", \"za'atar\", \"sumac\"\n",
        "]"
      ],
      "metadata": {
        "id": "zuJQZnG1UU-V"
      },
      "execution_count": 29,
      "outputs": []
    },
    {
      "cell_type": "code",
      "source": [
        "def get_ingredient_subtypes(ingredient):\n",
        "    ingredient_tags = ingredient.split(\" \")\n",
        "    ingr_subtypes = ingredient_tags[:-1]\n",
        "    return ingr_subtypes"
      ],
      "metadata": {
        "id": "bz8BeXVZRipd"
      },
      "execution_count": 30,
      "outputs": []
    },
    {
      "cell_type": "code",
      "source": [
        "# Define categories for organizing ingredients\n",
        "def categorize_ingredients(ingredients_list):\n",
        "    categorized = {\n",
        "        \"bread\": {bread: list() for bread in breads},\n",
        "        \"meats\": {meat: list() for meat in meats},\n",
        "        \"cheeses\": {cheese: list() for cheese in cheeses},\n",
        "        \"vegetables\": {veggie: list() for veggie in vegetables},\n",
        "        \"condiments\": {condiment: list() for condiment in condiments},\n",
        "        \"spices\": {spice: list() for spice in spices}\n",
        "    }\n",
        "\n",
        "    for ingredient in ingredients_list:\n",
        "        for bread in breads:\n",
        "            if bread in ingredient:\n",
        "                ingr_subtypes = get_ingredient_subtypes(ingredient)\n",
        "                categorized[\"bread\"][bread] = ingr_subtypes\n",
        "                break\n",
        "\n",
        "        for meat in meats:\n",
        "            if meat in ingredient:\n",
        "                ingr_subtypes = get_ingredient_subtypes(ingredient)\n",
        "                categorized[\"vegetables\"][meat] = ingr_subtypes\n",
        "                break\n",
        "\n",
        "        for cheese in cheeses:\n",
        "            if cheese in ingredient:\n",
        "                ingr_subtypes = get_ingredient_subtypes(ingredient)\n",
        "                categorized[\"cheeses\"][cheese] = ingr_subtypes\n",
        "                break\n",
        "\n",
        "        for veggie in vegetables:\n",
        "            if veggie in ingredient:\n",
        "                ingr_subtypes = get_ingredient_subtypes(ingredient)\n",
        "                categorized[\"vegetables\"][veggie] = ingr_subtypes\n",
        "                break\n",
        "\n",
        "        for condiment in condiments:\n",
        "            if condiment in ingredient:\n",
        "                ingr_subtypes = get_ingredient_subtypes(ingredient)\n",
        "                categorized[\"condiments\"][condiment] = ingr_subtypes\n",
        "                break\n",
        "\n",
        "        for spice in spices:\n",
        "            if spice in ingredient:\n",
        "                ingr_subtypes = get_ingredient_subtypes(ingredient)\n",
        "                categorized[\"spices\"][spice] = ingr_subtypes\n",
        "                break\n",
        "\n",
        "    return categorized"
      ],
      "metadata": {
        "id": "hkAFx6z6RkoI"
      },
      "execution_count": 31,
      "outputs": []
    },
    {
      "cell_type": "code",
      "source": [
        "# Reformat each sandwich entry\n",
        "formatted_sandwiches = []\n",
        "for sandwich in sandwiches_data:\n",
        "    formatted_entry = {\n",
        "        \"id\": sandwich[\"id\"],\n",
        "        \"ingredients\": categorize_ingredients(sandwich[\"ingredients\"]),\n",
        "        \"cuisine\": sandwich.get(\"cuisine\")\n",
        "    }\n",
        "    formatted_sandwiches.append(formatted_entry)\n",
        "\n",
        "# Convert to a pandas DataFrame and export\n",
        "output_file = 'formatted_sandwich_entries.json'\n",
        "with open(output_file, 'w') as outfile:\n",
        "    json.dump(formatted_sandwiches, outfile, indent=4)\n",
        "\n",
        "# Step 4: Download the reformatted JSON file\n",
        "files.download(output_file)"
      ],
      "metadata": {
        "colab": {
          "base_uri": "https://localhost:8080/",
          "height": 17
        },
        "id": "B6pkqHT6NUQh",
        "outputId": "4dc82340-8712-407f-b0b1-1ad8fd82f8ae"
      },
      "execution_count": 32,
      "outputs": [
        {
          "output_type": "display_data",
          "data": {
            "text/plain": [
              "<IPython.core.display.Javascript object>"
            ],
            "application/javascript": [
              "\n",
              "    async function download(id, filename, size) {\n",
              "      if (!google.colab.kernel.accessAllowed) {\n",
              "        return;\n",
              "      }\n",
              "      const div = document.createElement('div');\n",
              "      const label = document.createElement('label');\n",
              "      label.textContent = `Downloading \"${filename}\": `;\n",
              "      div.appendChild(label);\n",
              "      const progress = document.createElement('progress');\n",
              "      progress.max = size;\n",
              "      div.appendChild(progress);\n",
              "      document.body.appendChild(div);\n",
              "\n",
              "      const buffers = [];\n",
              "      let downloaded = 0;\n",
              "\n",
              "      const channel = await google.colab.kernel.comms.open(id);\n",
              "      // Send a message to notify the kernel that we're ready.\n",
              "      channel.send({})\n",
              "\n",
              "      for await (const message of channel.messages) {\n",
              "        // Send a message to notify the kernel that we're ready.\n",
              "        channel.send({})\n",
              "        if (message.buffers) {\n",
              "          for (const buffer of message.buffers) {\n",
              "            buffers.push(buffer);\n",
              "            downloaded += buffer.byteLength;\n",
              "            progress.value = downloaded;\n",
              "          }\n",
              "        }\n",
              "      }\n",
              "      const blob = new Blob(buffers, {type: 'application/binary'});\n",
              "      const a = document.createElement('a');\n",
              "      a.href = window.URL.createObjectURL(blob);\n",
              "      a.download = filename;\n",
              "      div.appendChild(a);\n",
              "      a.click();\n",
              "      div.remove();\n",
              "    }\n",
              "  "
            ]
          },
          "metadata": {}
        },
        {
          "output_type": "display_data",
          "data": {
            "text/plain": [
              "<IPython.core.display.Javascript object>"
            ],
            "application/javascript": [
              "download(\"download_e51b20da-2679-409a-ac24-7257af2048c7\", \"formatted_sandwich_entries.json\", 720335)"
            ]
          },
          "metadata": {}
        }
      ]
    }
  ]
}